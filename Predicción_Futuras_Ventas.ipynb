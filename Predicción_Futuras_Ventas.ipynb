{
 "cells": [
  {
   "cell_type": "markdown",
   "id": "ea108d87",
   "metadata": {},
   "source": [
    "# Predicción de Futuras Ventas"
   ]
  },
  {
   "cell_type": "code",
   "execution_count": 1,
   "id": "9e639b77",
   "metadata": {},
   "outputs": [
    {
     "name": "stdout",
     "output_type": "stream",
     "text": [
      "Collecting skforecast\n",
      "  Downloading skforecast-0.10.1-py3-none-any.whl (397 kB)\n",
      "     -------------------------------------- 397.3/397.3 kB 6.2 MB/s eta 0:00:00\n",
      "Requirement already satisfied: numpy<1.26,>=1.20 in c:\\users\\windows\\anaconda3\\lib\\site-packages (from skforecast) (1.23.5)\n",
      "Requirement already satisfied: pandas<2.1,>=1.2 in c:\\users\\windows\\anaconda3\\lib\\site-packages (from skforecast) (1.4.4)\n",
      "Requirement already satisfied: tqdm<4.66,>=4.57.0 in c:\\users\\windows\\anaconda3\\lib\\site-packages (from skforecast) (4.64.1)\n",
      "Requirement already satisfied: scikit-learn<1.4,>=1.0 in c:\\users\\windows\\anaconda3\\lib\\site-packages (from skforecast) (1.0.2)\n",
      "Collecting optuna<3.3,>=2.10.0 (from skforecast)\n",
      "  Downloading optuna-3.2.0-py3-none-any.whl (390 kB)\n",
      "     -------------------------------------- 390.6/390.6 kB 8.1 MB/s eta 0:00:00\n",
      "Requirement already satisfied: joblib<1.4,>=1.1.0 in c:\\users\\windows\\anaconda3\\lib\\site-packages (from skforecast) (1.1.0)\n",
      "Collecting alembic>=1.5.0 (from optuna<3.3,>=2.10.0->skforecast)\n",
      "  Downloading alembic-1.12.0-py3-none-any.whl (226 kB)\n",
      "     -------------------------------------- 226.0/226.0 kB 7.0 MB/s eta 0:00:00\n",
      "Collecting cmaes>=0.9.1 (from optuna<3.3,>=2.10.0->skforecast)\n",
      "  Downloading cmaes-0.10.0-py3-none-any.whl (29 kB)\n",
      "Collecting colorlog (from optuna<3.3,>=2.10.0->skforecast)\n",
      "  Downloading colorlog-6.7.0-py2.py3-none-any.whl (11 kB)\n",
      "Requirement already satisfied: packaging>=20.0 in c:\\users\\windows\\anaconda3\\lib\\site-packages (from optuna<3.3,>=2.10.0->skforecast) (21.3)\n",
      "Requirement already satisfied: sqlalchemy>=1.3.0 in c:\\users\\windows\\anaconda3\\lib\\site-packages (from optuna<3.3,>=2.10.0->skforecast) (1.4.39)\n",
      "Requirement already satisfied: PyYAML in c:\\users\\windows\\anaconda3\\lib\\site-packages (from optuna<3.3,>=2.10.0->skforecast) (6.0)\n",
      "Requirement already satisfied: python-dateutil>=2.8.1 in c:\\users\\windows\\anaconda3\\lib\\site-packages (from pandas<2.1,>=1.2->skforecast) (2.8.2)\n",
      "Requirement already satisfied: pytz>=2020.1 in c:\\users\\windows\\anaconda3\\lib\\site-packages (from pandas<2.1,>=1.2->skforecast) (2022.1)\n",
      "Requirement already satisfied: scipy>=1.1.0 in c:\\users\\windows\\anaconda3\\lib\\site-packages (from scikit-learn<1.4,>=1.0->skforecast) (1.9.1)\n",
      "Requirement already satisfied: threadpoolctl>=2.0.0 in c:\\users\\windows\\anaconda3\\lib\\site-packages (from scikit-learn<1.4,>=1.0->skforecast) (2.2.0)\n",
      "Requirement already satisfied: colorama in c:\\users\\windows\\anaconda3\\lib\\site-packages (from tqdm<4.66,>=4.57.0->skforecast) (0.4.6)\n",
      "Collecting Mako (from alembic>=1.5.0->optuna<3.3,>=2.10.0->skforecast)\n",
      "  Downloading Mako-1.2.4-py3-none-any.whl (78 kB)\n",
      "     ---------------------------------------- 78.7/78.7 kB 4.3 MB/s eta 0:00:00\n",
      "Requirement already satisfied: typing-extensions>=4 in c:\\users\\windows\\anaconda3\\lib\\site-packages (from alembic>=1.5.0->optuna<3.3,>=2.10.0->skforecast) (4.3.0)\n",
      "Requirement already satisfied: pyparsing!=3.0.5,>=2.0.2 in c:\\users\\windows\\anaconda3\\lib\\site-packages (from packaging>=20.0->optuna<3.3,>=2.10.0->skforecast) (3.0.9)\n",
      "Requirement already satisfied: six>=1.5 in c:\\users\\windows\\anaconda3\\lib\\site-packages (from python-dateutil>=2.8.1->pandas<2.1,>=1.2->skforecast) (1.16.0)\n",
      "Requirement already satisfied: greenlet!=0.4.17 in c:\\users\\windows\\anaconda3\\lib\\site-packages (from sqlalchemy>=1.3.0->optuna<3.3,>=2.10.0->skforecast) (1.1.1)\n",
      "Requirement already satisfied: MarkupSafe>=0.9.2 in c:\\users\\windows\\anaconda3\\lib\\site-packages (from Mako->alembic>=1.5.0->optuna<3.3,>=2.10.0->skforecast) (2.0.1)\n",
      "Installing collected packages: Mako, colorlog, cmaes, alembic, optuna, skforecast\n",
      "Successfully installed Mako-1.2.4 alembic-1.12.0 cmaes-0.10.0 colorlog-6.7.0 optuna-3.2.0 skforecast-0.10.1\n",
      "Note: you may need to restart the kernel to use updated packages.\n"
     ]
    },
    {
     "name": "stderr",
     "output_type": "stream",
     "text": [
      "WARNING: Ignoring invalid distribution -rpcio (c:\\users\\windows\\anaconda3\\lib\\site-packages)\n",
      "WARNING: Ignoring invalid distribution -rpcio (c:\\users\\windows\\anaconda3\\lib\\site-packages)\n",
      "\n",
      "[notice] A new release of pip is available: 23.1.2 -> 23.3.1\n",
      "[notice] To update, run: python.exe -m pip install --upgrade pip\n"
     ]
    }
   ],
   "source": [
    "pip install skforecast"
   ]
  },
  {
   "cell_type": "code",
   "execution_count": 2,
   "id": "89ac7efb",
   "metadata": {},
   "outputs": [],
   "source": [
    "import numpy as np\n",
    "import pandas as pd\n",
    "import matplotlib.pyplot as plt\n",
    "plt.style.use('fivethirtyeight')\n",
    "plt.rcParams['lines.linewidth'] = 1.5\n",
    "plt.rcParams['font.size'] = 10\n",
    "\n",
    "from sklearn.linear_model import LinearRegression\n",
    "from sklearn.linear_model import Lasso\n",
    "from sklearn.ensemble import RandomForestRegressor\n",
    "from sklearn.metrics import mean_squared_error\n",
    "from sklearn.metrics import mean_absolute_error\n",
    "from sklearn.preprocessing import StandardScaler\n",
    "\n",
    "from skforecast.ForecasterAutoreg import ForecasterAutoreg\n",
    "from skforecast.ForecasterAutoregCustom import ForecasterAutoregCustom\n",
    "from skforecast.ForecasterAutoregDirect import ForecasterAutoregDirect\n",
    "from skforecast.model_selection import grid_search_forecaster\n",
    "from skforecast.model_selection import backtesting_forecaster\n",
    "from skforecast.utils import save_forecaster\n",
    "from skforecast.utils import load_forecaster\n",
    "\n",
    "import warnings\n",
    "warnings.filterwarnings('ignore')"
   ]
  },
  {
   "cell_type": "markdown",
   "id": "22a73dd3",
   "metadata": {},
   "source": [
    "## Cargar datos"
   ]
  },
  {
   "cell_type": "code",
   "execution_count": 3,
   "id": "b3facf92",
   "metadata": {},
   "outputs": [],
   "source": [
    "df = pd.read_csv('D:/Nuevo.csv')"
   ]
  },
  {
   "cell_type": "code",
   "execution_count": 4,
   "id": "8d7a766b",
   "metadata": {},
   "outputs": [
    {
     "data": {
      "text/plain": [
       "Index(['SchemaField('Empresa', 'STRING', 'NULLABLE', None, None, (), None)',\n",
       "       'SchemaField('FECHA', 'STRING', 'NULLABLE', None, None, (), None)',\n",
       "       'SchemaField('Anio', 'INTEGER', 'NULLABLE', None, None, (), None)',\n",
       "       'SchemaField('Mes', 'INTEGER', 'NULLABLE', None, None, (), None)',\n",
       "       'SchemaField('Proveedor', 'STRING', 'NULLABLE', None, None, (), None)',\n",
       "       'SchemaField('Linea', 'STRING', 'NULLABLE', None, None, (), None)',\n",
       "       'SchemaField('Marca', 'STRING', 'NULLABLE', None, None, (), None)',\n",
       "       'SchemaField('Producto', 'STRING', 'NULLABLE', None, None, (), None)',\n",
       "       'SchemaField('Sucursal', 'STRING', 'NULLABLE', None, None, (), None)',\n",
       "       'SchemaField('Cod_Cliente', 'STRING', 'NULLABLE', None, None, (), None)',\n",
       "       'SchemaField('Cliente', 'STRING', 'NULLABLE', None, None, (), None)',\n",
       "       'SchemaField('FuerzaVentas', 'STRING', 'NULLABLE', None, None, (), None)',\n",
       "       'SchemaField('ValorVenta', 'FLOAT', 'NULLABLE', None, None, (), None)',\n",
       "       'SchemaField('Cantidad', 'FLOAT', 'NULLABLE', None, None, (), None)'],\n",
       "      dtype='object')"
      ]
     },
     "execution_count": 4,
     "metadata": {},
     "output_type": "execute_result"
    }
   ],
   "source": [
    "df.columns"
   ]
  },
  {
   "cell_type": "markdown",
   "id": "1678d009",
   "metadata": {},
   "source": [
    "##### Cambiamos el nombre de cada columna con la finalidad de tener un nombre específico."
   ]
  },
  {
   "cell_type": "code",
   "execution_count": 5,
   "id": "07de1f2e",
   "metadata": {},
   "outputs": [],
   "source": [
    "df.columns = ['Empresa', 'Fecha', 'Año', 'Mes', 'Proveedor', 'Linea', 'Marca', 'Producto', 'Sucursal',\n",
    "              'Cod_Cliente', 'Cliente', 'FuerzaVentas', 'ValorVenta', 'Cantidad']"
   ]
  },
  {
   "cell_type": "code",
   "execution_count": 6,
   "id": "0b3a428e",
   "metadata": {},
   "outputs": [
    {
     "data": {
      "text/html": [
       "<div>\n",
       "<style scoped>\n",
       "    .dataframe tbody tr th:only-of-type {\n",
       "        vertical-align: middle;\n",
       "    }\n",
       "\n",
       "    .dataframe tbody tr th {\n",
       "        vertical-align: top;\n",
       "    }\n",
       "\n",
       "    .dataframe thead th {\n",
       "        text-align: right;\n",
       "    }\n",
       "</style>\n",
       "<table border=\"1\" class=\"dataframe\">\n",
       "  <thead>\n",
       "    <tr style=\"text-align: right;\">\n",
       "      <th></th>\n",
       "      <th>Empresa</th>\n",
       "      <th>Fecha</th>\n",
       "      <th>Año</th>\n",
       "      <th>Mes</th>\n",
       "      <th>Proveedor</th>\n",
       "      <th>Linea</th>\n",
       "      <th>Marca</th>\n",
       "      <th>Producto</th>\n",
       "      <th>Sucursal</th>\n",
       "      <th>Cod_Cliente</th>\n",
       "      <th>Cliente</th>\n",
       "      <th>FuerzaVentas</th>\n",
       "      <th>ValorVenta</th>\n",
       "      <th>Cantidad</th>\n",
       "    </tr>\n",
       "  </thead>\n",
       "  <tbody>\n",
       "    <tr>\n",
       "      <th>0</th>\n",
       "      <td>GVD</td>\n",
       "      <td>12/06/2023</td>\n",
       "      <td>2023</td>\n",
       "      <td>6</td>\n",
       "      <td>PESQUERA HAYDUK S.A.</td>\n",
       "      <td>CONSERVAS DE PESCADOS</td>\n",
       "      <td>CAMPOMAR</td>\n",
       "      <td>CAMPOMAR GRATED ATUN CJ*24*160GR</td>\n",
       "      <td>VEGA ESTE</td>\n",
       "      <td>101242</td>\n",
       "      <td>VASCONCELLOS GONZALES, NORMA MILUSKA</td>\n",
       "      <td>RUTA Mixta C</td>\n",
       "      <td>28.677966</td>\n",
       "      <td>12.0</td>\n",
       "    </tr>\n",
       "    <tr>\n",
       "      <th>1</th>\n",
       "      <td>GVD</td>\n",
       "      <td>16/08/2023</td>\n",
       "      <td>2023</td>\n",
       "      <td>8</td>\n",
       "      <td>QUIMICA SUIZA SAC</td>\n",
       "      <td>MEDICINAS</td>\n",
       "      <td>SAL DE ANDREWS</td>\n",
       "      <td>SAL DE ANDREWS CJA*72DISP*30U</td>\n",
       "      <td>VEGA ESTE</td>\n",
       "      <td>233078</td>\n",
       "      <td>DOMINGUEZ  SUAREZ, LUISA  CONSUELO</td>\n",
       "      <td>RUTA Mixta B</td>\n",
       "      <td>15.288136</td>\n",
       "      <td>1.0</td>\n",
       "    </tr>\n",
       "    <tr>\n",
       "      <th>2</th>\n",
       "      <td>GVD</td>\n",
       "      <td>21/08/2023</td>\n",
       "      <td>2023</td>\n",
       "      <td>8</td>\n",
       "      <td>GENOMMA LAB. PERU S.A.</td>\n",
       "      <td>SHAMPOO Y CUIDADO PARA EL CABELLO</td>\n",
       "      <td>TIO NACHO</td>\n",
       "      <td>CBO LOTERO:2TR TIO NACHO SH*18ML(HERBOLARIA-AC...</td>\n",
       "      <td>VEGA ESTE</td>\n",
       "      <td>106889</td>\n",
       "      <td>VASQUEZ SALAZAR, KATHERINE ROSE MARY</td>\n",
       "      <td>RUTA Mixta C</td>\n",
       "      <td>13.576271</td>\n",
       "      <td>1.0</td>\n",
       "    </tr>\n",
       "    <tr>\n",
       "      <th>3</th>\n",
       "      <td>GVD</td>\n",
       "      <td>04/08/2023</td>\n",
       "      <td>2023</td>\n",
       "      <td>8</td>\n",
       "      <td>AJINOMOTO DEL PERU S A</td>\n",
       "      <td>SALSA DE SOYA</td>\n",
       "      <td>AJINOSILLAO</td>\n",
       "      <td>AJINOSILLAO CJA*96U*150ML</td>\n",
       "      <td>VEGA SUR</td>\n",
       "      <td>358590</td>\n",
       "      <td>CisFarma ,</td>\n",
       "      <td>RUTA Mixta B</td>\n",
       "      <td>7.264576</td>\n",
       "      <td>6.0</td>\n",
       "    </tr>\n",
       "    <tr>\n",
       "      <th>4</th>\n",
       "      <td>GVD</td>\n",
       "      <td>22/08/2023</td>\n",
       "      <td>2023</td>\n",
       "      <td>8</td>\n",
       "      <td>ALIMENTOS POLAR PERU S.A.C.</td>\n",
       "      <td>HARINAS Y DERIVADOS</td>\n",
       "      <td>PAN</td>\n",
       "      <td>PAN HARINA PRE COCIDA BOL*20U*1KG</td>\n",
       "      <td>VEGA NORTE</td>\n",
       "      <td>139809</td>\n",
       "      <td>SALAS ALVAREZ, ELIZABETH ANA</td>\n",
       "      <td>RUTA Mixta C</td>\n",
       "      <td>16.523644</td>\n",
       "      <td>3.0</td>\n",
       "    </tr>\n",
       "  </tbody>\n",
       "</table>\n",
       "</div>"
      ],
      "text/plain": [
       "  Empresa       Fecha   Año  Mes                    Proveedor  \\\n",
       "0     GVD  12/06/2023  2023    6         PESQUERA HAYDUK S.A.   \n",
       "1     GVD  16/08/2023  2023    8            QUIMICA SUIZA SAC   \n",
       "2     GVD  21/08/2023  2023    8       GENOMMA LAB. PERU S.A.   \n",
       "3     GVD  04/08/2023  2023    8       AJINOMOTO DEL PERU S A   \n",
       "4     GVD  22/08/2023  2023    8  ALIMENTOS POLAR PERU S.A.C.   \n",
       "\n",
       "                               Linea           Marca  \\\n",
       "0              CONSERVAS DE PESCADOS        CAMPOMAR   \n",
       "1                          MEDICINAS  SAL DE ANDREWS   \n",
       "2  SHAMPOO Y CUIDADO PARA EL CABELLO       TIO NACHO   \n",
       "3                      SALSA DE SOYA     AJINOSILLAO   \n",
       "4                HARINAS Y DERIVADOS             PAN   \n",
       "\n",
       "                                            Producto    Sucursal  Cod_Cliente  \\\n",
       "0                   CAMPOMAR GRATED ATUN CJ*24*160GR   VEGA ESTE       101242   \n",
       "1                      SAL DE ANDREWS CJA*72DISP*30U   VEGA ESTE       233078   \n",
       "2  CBO LOTERO:2TR TIO NACHO SH*18ML(HERBOLARIA-AC...   VEGA ESTE       106889   \n",
       "3                          AJINOSILLAO CJA*96U*150ML    VEGA SUR       358590   \n",
       "4                  PAN HARINA PRE COCIDA BOL*20U*1KG  VEGA NORTE       139809   \n",
       "\n",
       "                                Cliente  FuerzaVentas  ValorVenta  Cantidad  \n",
       "0  VASCONCELLOS GONZALES, NORMA MILUSKA  RUTA Mixta C   28.677966      12.0  \n",
       "1    DOMINGUEZ  SUAREZ, LUISA  CONSUELO  RUTA Mixta B   15.288136       1.0  \n",
       "2  VASQUEZ SALAZAR, KATHERINE ROSE MARY  RUTA Mixta C   13.576271       1.0  \n",
       "3                            CisFarma ,  RUTA Mixta B    7.264576       6.0  \n",
       "4          SALAS ALVAREZ, ELIZABETH ANA  RUTA Mixta C   16.523644       3.0  "
      ]
     },
     "execution_count": 6,
     "metadata": {},
     "output_type": "execute_result"
    }
   ],
   "source": [
    "df.head()"
   ]
  },
  {
   "cell_type": "markdown",
   "id": "235a413e",
   "metadata": {},
   "source": [
    "## Preprocesamiento de datos"
   ]
  },
  {
   "cell_type": "code",
   "execution_count": 7,
   "id": "f98a0cab",
   "metadata": {},
   "outputs": [
    {
     "data": {
      "text/plain": [
       "Empresa         0\n",
       "Fecha           0\n",
       "Año             0\n",
       "Mes             0\n",
       "Proveedor       0\n",
       "Linea           0\n",
       "Marca           0\n",
       "Producto        0\n",
       "Sucursal        0\n",
       "Cod_Cliente     0\n",
       "Cliente         0\n",
       "FuerzaVentas    0\n",
       "ValorVenta      0\n",
       "Cantidad        0\n",
       "dtype: int64"
      ]
     },
     "execution_count": 7,
     "metadata": {},
     "output_type": "execute_result"
    }
   ],
   "source": [
    "df.isnull().sum()"
   ]
  },
  {
   "cell_type": "code",
   "execution_count": 8,
   "id": "38f28645",
   "metadata": {},
   "outputs": [
    {
     "data": {
      "text/plain": [
       "Empresa          object\n",
       "Fecha            object\n",
       "Año               int64\n",
       "Mes               int64\n",
       "Proveedor        object\n",
       "Linea            object\n",
       "Marca            object\n",
       "Producto         object\n",
       "Sucursal         object\n",
       "Cod_Cliente       int64\n",
       "Cliente          object\n",
       "FuerzaVentas     object\n",
       "ValorVenta      float64\n",
       "Cantidad        float64\n",
       "dtype: object"
      ]
     },
     "execution_count": 8,
     "metadata": {},
     "output_type": "execute_result"
    }
   ],
   "source": [
    "df.dtypes"
   ]
  },
  {
   "cell_type": "markdown",
   "id": "c3dc0070",
   "metadata": {},
   "source": [
    "##### En el conjunto de datos nos interesa dos campos, las cuales son `Fecha` y `ValorVenta`, por lo que asignaremos ambas columnas en un nuevo dataset."
   ]
  },
  {
   "cell_type": "code",
   "execution_count": 9,
   "id": "5d27a8c8",
   "metadata": {},
   "outputs": [],
   "source": [
    "data = df[['Fecha', 'ValorVenta']]"
   ]
  },
  {
   "cell_type": "code",
   "execution_count": 10,
   "id": "4cde639b",
   "metadata": {},
   "outputs": [
    {
     "data": {
      "text/html": [
       "<div>\n",
       "<style scoped>\n",
       "    .dataframe tbody tr th:only-of-type {\n",
       "        vertical-align: middle;\n",
       "    }\n",
       "\n",
       "    .dataframe tbody tr th {\n",
       "        vertical-align: top;\n",
       "    }\n",
       "\n",
       "    .dataframe thead th {\n",
       "        text-align: right;\n",
       "    }\n",
       "</style>\n",
       "<table border=\"1\" class=\"dataframe\">\n",
       "  <thead>\n",
       "    <tr style=\"text-align: right;\">\n",
       "      <th></th>\n",
       "      <th>Fecha</th>\n",
       "      <th>ValorVenta</th>\n",
       "    </tr>\n",
       "  </thead>\n",
       "  <tbody>\n",
       "    <tr>\n",
       "      <th>0</th>\n",
       "      <td>12/06/2023</td>\n",
       "      <td>28.677966</td>\n",
       "    </tr>\n",
       "    <tr>\n",
       "      <th>1</th>\n",
       "      <td>16/08/2023</td>\n",
       "      <td>15.288136</td>\n",
       "    </tr>\n",
       "    <tr>\n",
       "      <th>2</th>\n",
       "      <td>21/08/2023</td>\n",
       "      <td>13.576271</td>\n",
       "    </tr>\n",
       "    <tr>\n",
       "      <th>3</th>\n",
       "      <td>04/08/2023</td>\n",
       "      <td>7.264576</td>\n",
       "    </tr>\n",
       "    <tr>\n",
       "      <th>4</th>\n",
       "      <td>22/08/2023</td>\n",
       "      <td>16.523644</td>\n",
       "    </tr>\n",
       "  </tbody>\n",
       "</table>\n",
       "</div>"
      ],
      "text/plain": [
       "        Fecha  ValorVenta\n",
       "0  12/06/2023   28.677966\n",
       "1  16/08/2023   15.288136\n",
       "2  21/08/2023   13.576271\n",
       "3  04/08/2023    7.264576\n",
       "4  22/08/2023   16.523644"
      ]
     },
     "execution_count": 10,
     "metadata": {},
     "output_type": "execute_result"
    }
   ],
   "source": [
    "data.head()"
   ]
  },
  {
   "cell_type": "markdown",
   "id": "16391785",
   "metadata": {},
   "source": [
    "##### La columna `Fecha` se ha almacenado como `string`. Para convertirla en el formato `datetime`, se emplea la función `pd.to_datetime()`. Una vez en formato `datetime`, y para hacer uso de las funcionalidades de la librería **Pandas**, se establece como índice. Además, dado que los datos son diarios, se indica la frecuencia (D)."
   ]
  },
  {
   "cell_type": "code",
   "execution_count": 11,
   "id": "3bc9c242",
   "metadata": {},
   "outputs": [],
   "source": [
    "data['Fecha'] = pd.to_datetime(data['Fecha'], format='%d/%m/%Y')\n",
    "data = data.set_index('Fecha')"
   ]
  },
  {
   "cell_type": "code",
   "execution_count": 12,
   "id": "5c89846b",
   "metadata": {},
   "outputs": [
    {
     "data": {
      "text/html": [
       "<div>\n",
       "<style scoped>\n",
       "    .dataframe tbody tr th:only-of-type {\n",
       "        vertical-align: middle;\n",
       "    }\n",
       "\n",
       "    .dataframe tbody tr th {\n",
       "        vertical-align: top;\n",
       "    }\n",
       "\n",
       "    .dataframe thead th {\n",
       "        text-align: right;\n",
       "    }\n",
       "</style>\n",
       "<table border=\"1\" class=\"dataframe\">\n",
       "  <thead>\n",
       "    <tr style=\"text-align: right;\">\n",
       "      <th></th>\n",
       "      <th>ValorVenta</th>\n",
       "    </tr>\n",
       "    <tr>\n",
       "      <th>Fecha</th>\n",
       "      <th></th>\n",
       "    </tr>\n",
       "  </thead>\n",
       "  <tbody>\n",
       "    <tr>\n",
       "      <th>2023-06-12</th>\n",
       "      <td>28.677966</td>\n",
       "    </tr>\n",
       "    <tr>\n",
       "      <th>2023-08-16</th>\n",
       "      <td>15.288136</td>\n",
       "    </tr>\n",
       "    <tr>\n",
       "      <th>2023-08-21</th>\n",
       "      <td>13.576271</td>\n",
       "    </tr>\n",
       "    <tr>\n",
       "      <th>2023-08-04</th>\n",
       "      <td>7.264576</td>\n",
       "    </tr>\n",
       "    <tr>\n",
       "      <th>2023-08-22</th>\n",
       "      <td>16.523644</td>\n",
       "    </tr>\n",
       "  </tbody>\n",
       "</table>\n",
       "</div>"
      ],
      "text/plain": [
       "            ValorVenta\n",
       "Fecha                 \n",
       "2023-06-12   28.677966\n",
       "2023-08-16   15.288136\n",
       "2023-08-21   13.576271\n",
       "2023-08-04    7.264576\n",
       "2023-08-22   16.523644"
      ]
     },
     "execution_count": 12,
     "metadata": {},
     "output_type": "execute_result"
    }
   ],
   "source": [
    "data.head()"
   ]
  },
  {
   "cell_type": "markdown",
   "id": "0563689e",
   "metadata": {},
   "source": [
    "##### Agrupamos los datos por fecha, rellenando fechas faltantes y ordenando el DataFrame por fecha."
   ]
  },
  {
   "cell_type": "code",
   "execution_count": 13,
   "id": "7256a995",
   "metadata": {},
   "outputs": [],
   "source": [
    "data = data.groupby(data.index).sum()"
   ]
  },
  {
   "cell_type": "code",
   "execution_count": 14,
   "id": "642c04fb",
   "metadata": {},
   "outputs": [
    {
     "data": {
      "text/html": [
       "<div>\n",
       "<style scoped>\n",
       "    .dataframe tbody tr th:only-of-type {\n",
       "        vertical-align: middle;\n",
       "    }\n",
       "\n",
       "    .dataframe tbody tr th {\n",
       "        vertical-align: top;\n",
       "    }\n",
       "\n",
       "    .dataframe thead th {\n",
       "        text-align: right;\n",
       "    }\n",
       "</style>\n",
       "<table border=\"1\" class=\"dataframe\">\n",
       "  <thead>\n",
       "    <tr style=\"text-align: right;\">\n",
       "      <th></th>\n",
       "      <th>ValorVenta</th>\n",
       "    </tr>\n",
       "    <tr>\n",
       "      <th>Fecha</th>\n",
       "      <th></th>\n",
       "    </tr>\n",
       "  </thead>\n",
       "  <tbody>\n",
       "    <tr>\n",
       "      <th>2023-01-02</th>\n",
       "      <td>15.613143</td>\n",
       "    </tr>\n",
       "    <tr>\n",
       "      <th>2023-01-03</th>\n",
       "      <td>714858.376324</td>\n",
       "    </tr>\n",
       "    <tr>\n",
       "      <th>2023-01-04</th>\n",
       "      <td>837090.514947</td>\n",
       "    </tr>\n",
       "    <tr>\n",
       "      <th>2023-01-05</th>\n",
       "      <td>807809.046109</td>\n",
       "    </tr>\n",
       "    <tr>\n",
       "      <th>2023-01-06</th>\n",
       "      <td>797892.370371</td>\n",
       "    </tr>\n",
       "  </tbody>\n",
       "</table>\n",
       "</div>"
      ],
      "text/plain": [
       "               ValorVenta\n",
       "Fecha                    \n",
       "2023-01-02      15.613143\n",
       "2023-01-03  714858.376324\n",
       "2023-01-04  837090.514947\n",
       "2023-01-05  807809.046109\n",
       "2023-01-06  797892.370371"
      ]
     },
     "execution_count": 14,
     "metadata": {},
     "output_type": "execute_result"
    }
   ],
   "source": [
    "data = data.asfreq('D')\n",
    "data = data.sort_index()\n",
    "data.head()"
   ]
  },
  {
   "cell_type": "code",
   "execution_count": 15,
   "id": "94f82303",
   "metadata": {},
   "outputs": [
    {
     "data": {
      "text/plain": [
       "ValorVenta    18\n",
       "dtype: int64"
      ]
     },
     "execution_count": 15,
     "metadata": {},
     "output_type": "execute_result"
    }
   ],
   "source": [
    "data.isnull().sum()"
   ]
  },
  {
   "cell_type": "code",
   "execution_count": 16,
   "id": "cd348cba",
   "metadata": {},
   "outputs": [],
   "source": [
    "data = data.interpolate()"
   ]
  },
  {
   "cell_type": "markdown",
   "id": "818aac23",
   "metadata": {},
   "source": [
    "##### Al establecer la frecuencia con el método `asfreq()`, **Pandas** completa los huecos que puedan existir en la serie temporal con el valor de `Null` con el fin de asegurar la frecuencia indicada. Por ello, se debe comprobar si han aparecido missing values tras esta transformación."
   ]
  },
  {
   "cell_type": "code",
   "execution_count": 17,
   "id": "361bbb58",
   "metadata": {},
   "outputs": [
    {
     "name": "stdout",
     "output_type": "stream",
     "text": [
      "Número de filas con missing values: 0.0\n"
     ]
    }
   ],
   "source": [
    "print(f'Número de filas con missing values: {data.isnull().any(axis=1).mean()}')"
   ]
  },
  {
   "cell_type": "code",
   "execution_count": 18,
   "id": "be14410c",
   "metadata": {},
   "outputs": [
    {
     "data": {
      "text/plain": [
       "True"
      ]
     },
     "execution_count": 18,
     "metadata": {},
     "output_type": "execute_result"
    }
   ],
   "source": [
    "(data.index == pd.date_range(\n",
    "                    start = data.index.min(),\n",
    "                    end   = data.index.max(),\n",
    "                    freq  = data.index.freq)\n",
    ").all()"
   ]
  },
  {
   "cell_type": "code",
   "execution_count": 19,
   "id": "795800cc",
   "metadata": {},
   "outputs": [
    {
     "name": "stdout",
     "output_type": "stream",
     "text": [
      "Fechas train : 2023-01-02 00:00:00 --- 2023-07-05 00:00:00  (n=185)\n",
      "Fechas test  : 2023-07-06 00:00:00 --- 2023-10-13 00:00:00  (n=100)\n"
     ]
    },
    {
     "data": {
      "image/png": "[encoded data removed]",
      "text/plain": [
       "<Figure size 1000x400 with 1 Axes>"
      ]
     },
     "metadata": {},
     "output_type": "display_data"
    }
   ],
   "source": [
    "steps = 100\n",
    "datos_train = data[:-steps]\n",
    "datos_test  = data[-steps:]\n",
    "\n",
    "print(f\"Fechas train : {datos_train.index.min()} --- {datos_train.index.max()}  (n={len(datos_train)})\")\n",
    "print(f\"Fechas test  : {datos_test.index.min()} --- {datos_test.index.max()}  (n={len(datos_test)})\")\n",
    "\n",
    "fig, ax = plt.subplots(figsize=(10, 4))\n",
    "datos_train['ValorVenta'].plot(ax=ax, label='train')\n",
    "datos_test['ValorVenta'].plot(ax=ax, label='test')\n",
    "ax.legend();"
   ]
  },
  {
   "cell_type": "markdown",
   "id": "99797de1",
   "metadata": {},
   "source": [
    "## Forecasting autorregresivo recursivo\n",
    "\n",
    "##### Se crea y entrena un modelo `ForecasterAutoreg` a partir de un regresor `RandomForestRegressor` y una ventana temporal de 20 lags.\n",
    "##### Este último significa que, el modelo, utiliza como predictores los 20 días anteriores."
   ]
  },
  {
   "cell_type": "code",
   "execution_count": 20,
   "id": "99fd004f",
   "metadata": {},
   "outputs": [
    {
     "data": {
      "text/plain": [
       "================= \n",
       "ForecasterAutoreg \n",
       "================= \n",
       "Regressor: RandomForestRegressor(random_state=123) \n",
       "Lags: [ 1  2  3  4  5  6  7  8  9 10 11 12 13 14 15 16 17 18 19 20] \n",
       "Transformer for y: None \n",
       "Transformer for exog: None \n",
       "Window size: 20 \n",
       "Weight function included: False \n",
       "Differentiation order: None \n",
       "Exogenous included: False \n",
       "Type of exogenous variable: None \n",
       "Exogenous variables names: None \n",
       "Training range: [Timestamp('2023-01-02 00:00:00'), Timestamp('2023-07-05 00:00:00')] \n",
       "Training index type: DatetimeIndex \n",
       "Training index frequency: D \n",
       "Regressor parameters: {'bootstrap': True, 'ccp_alpha': 0.0, 'criterion': 'squared_error', 'max_depth': None, 'max_features': 'auto', 'max_leaf_nodes': None, 'max_samples': None, 'min_impurity_decrease': 0.0, 'min_samples_leaf': 1, 'min_samples_split': 2, 'min_weight_fraction_leaf': 0.0, 'n_estimators': 100, 'n_jobs': None, 'oob_score': False, 'random_state': 123, 'verbose': 0, 'warm_start': False} \n",
       "fit_kwargs: {} \n",
       "Creation date: 2023-10-24 23:21:19 \n",
       "Last fit date: 2023-10-24 23:21:20 \n",
       "Skforecast version: 0.10.1 \n",
       "Python version: 3.9.13 \n",
       "Forecaster id: None "
      ]
     },
     "execution_count": 20,
     "metadata": {},
     "output_type": "execute_result"
    }
   ],
   "source": [
    "forecaster = ForecasterAutoreg(\n",
    "                regressor = RandomForestRegressor(random_state=123),\n",
    "                lags = 20\n",
    "             )\n",
    "\n",
    "forecaster.fit(datos_train['ValorVenta'])\n",
    "forecaster"
   ]
  },
  {
   "cell_type": "markdown",
   "id": "489eba4b",
   "metadata": {},
   "source": [
    "## Predicciones\n",
    "\n",
    "##### una vez entrenado el modelo, se predicen los datos de test (100 días a futuro)."
   ]
  },
  {
   "cell_type": "code",
   "execution_count": 21,
   "id": "52d30bad",
   "metadata": {},
   "outputs": [
    {
     "data": {
      "text/plain": [
       "2023-07-06    799173.967606\n",
       "2023-07-07    744766.622659\n",
       "2023-07-08    713529.258630\n",
       "2023-07-09    427453.756932\n",
       "2023-07-10    784049.429023\n",
       "Freq: D, Name: pred, dtype: float64"
      ]
     },
     "execution_count": 21,
     "metadata": {},
     "output_type": "execute_result"
    }
   ],
   "source": [
    "steps = 100\n",
    "predicciones = forecaster.predict(steps=steps)\n",
    "predicciones.head()"
   ]
  },
  {
   "cell_type": "code",
   "execution_count": 22,
   "id": "5a951207",
   "metadata": {},
   "outputs": [
    {
     "data": {
      "image/png": "[encoded data removed]",
      "text/plain": [
       "<Figure size 1000x400 with 1 Axes>"
      ]
     },
     "metadata": {},
     "output_type": "display_data"
    }
   ],
   "source": [
    "fig, ax = plt.subplots(figsize=(10, 4))\n",
    "datos_train['ValorVenta'].plot(ax=ax, label='train')\n",
    "datos_test['ValorVenta'].plot(ax=ax, label='test')\n",
    "predicciones.plot(ax=ax, label='predicciones')\n",
    "ax.legend();"
   ]
  },
  {
   "cell_type": "markdown",
   "id": "26351646",
   "metadata": {},
   "source": [
    "## Error de las predicciones en el conjunto de test\n",
    "\n",
    "##### Se cuantifica el error que comete el modelo en sus predicciones. En este caso, se emplea como métrica el mean squared error (mse)."
   ]
  },
  {
   "cell_type": "code",
   "execution_count": 23,
   "id": "e38cce6a",
   "metadata": {},
   "outputs": [
    {
     "name": "stdout",
     "output_type": "stream",
     "text": [
      "Error de test (mse): 4493730431109.822\n"
     ]
    }
   ],
   "source": [
    "error_mse = mean_squared_error(\n",
    "                y_true = datos_test['ValorVenta'],\n",
    "                y_pred = predicciones\n",
    "            )\n",
    "\n",
    "print(f\"Error de test (mse): {error_mse}\")"
   ]
  }
 ],
 "metadata": {
  "kernelspec": {
   "display_name": "Python 3 (ipykernel)",
   "language": "python",
   "name": "python3"
  },
  "language_info": {
   "codemirror_mode": {
    "name": "ipython",
    "version": 3
   },
   "file_extension": ".py",
   "mimetype": "text/x-python",
   "name": "python",
   "nbconvert_exporter": "python",
   "pygments_lexer": "ipython3",
   "version": "3.9.13"
  }
 },
 "nbformat": 4,
 "nbformat_minor": 5
}
