{
  "nbformat": 4,
  "nbformat_minor": 0,
  "metadata": {
    "colab": {
      "provenance": [],
      "toc_visible": true,
      "authorship_tag": "ABX9TyO8GTFhL9VEdguwZyZ2i3qV"
    },
    "kernelspec": {
      "name": "python3",
      "display_name": "Python 3"
    },
    "language_info": {
      "name": "python"
    }
  },
  "cells": [
    {
      "cell_type": "markdown",
      "source": [
        "**1. Cargar el dataset**\n",
        "\n",
        "\n"
      ],
      "metadata": {
        "id": "faa1HepcBzvW"
      }
    },
    {
      "cell_type": "code",
      "execution_count": 4,
      "metadata": {
        "id": "JhXzikms-P4B"
      },
      "outputs": [],
      "source": [
        "import pandas as pd"
      ]
    },
    {
      "cell_type": "code",
      "source": [
        "df = pd.read_csv(\"/content/results.csv\")"
      ],
      "metadata": {
        "id": "BelVud3PBd9d"
      },
      "execution_count": 5,
      "outputs": []
    },
    {
      "cell_type": "markdown",
      "source": [
        "**2. Exploración inicial**\n",
        "\n",
        "Realiza una exploración inicial del conjunto de datos para comprender su estructura. Puedes usar funciones como los siguientes:\n",
        "\n",
        "- head()\n",
        "- info()\n",
        "- describe()\n",
        "\n",
        "Esto es para obtener una vista previa de los datos."
      ],
      "metadata": {
        "id": "uKBnN8mfB579"
      }
    },
    {
      "cell_type": "code",
      "source": [
        "print(df.head()) # Muestra las primeras filas del dataset."
      ],
      "metadata": {
        "colab": {
          "base_uri": "https://localhost:8080/"
        },
        "id": "xtIwE3D4ByyF",
        "outputId": "6311639b-6ca5-4be7-ffcc-247f6b1eb28e"
      },
      "execution_count": 6,
      "outputs": [
        {
          "output_type": "stream",
          "name": "stdout",
          "text": [
            "         date home_team away_team  home_score  away_score tournament     city  \\\n",
            "0  1872-11-30  Scotland   England           0           0   Friendly  Glasgow   \n",
            "1  1873-03-08   England  Scotland           4           2   Friendly   London   \n",
            "2  1874-03-07  Scotland   England           2           1   Friendly  Glasgow   \n",
            "3  1875-03-06   England  Scotland           2           2   Friendly   London   \n",
            "4  1876-03-04  Scotland   England           3           0   Friendly  Glasgow   \n",
            "\n",
            "    country  neutral  \n",
            "0  Scotland    False  \n",
            "1   England    False  \n",
            "2  Scotland    False  \n",
            "3   England    False  \n",
            "4  Scotland    False  \n"
          ]
        }
      ]
    },
    {
      "cell_type": "code",
      "source": [
        "print(df.info()) # Muestra información sobre las columnas y los tipos de datos."
      ],
      "metadata": {
        "colab": {
          "base_uri": "https://localhost:8080/"
        },
        "id": "P4u7VuYrCT2s",
        "outputId": "49f91c3f-9974-4cfe-ffd5-67bcbd109855"
      },
      "execution_count": 7,
      "outputs": [
        {
          "output_type": "stream",
          "name": "stdout",
          "text": [
            "<class 'pandas.core.frame.DataFrame'>\n",
            "RangeIndex: 41243 entries, 0 to 41242\n",
            "Data columns (total 9 columns):\n",
            " #   Column      Non-Null Count  Dtype \n",
            "---  ------      --------------  ----- \n",
            " 0   date        41243 non-null  object\n",
            " 1   home_team   41243 non-null  object\n",
            " 2   away_team   41243 non-null  object\n",
            " 3   home_score  41243 non-null  int64 \n",
            " 4   away_score  41243 non-null  int64 \n",
            " 5   tournament  41243 non-null  object\n",
            " 6   city        41243 non-null  object\n",
            " 7   country     41243 non-null  object\n",
            " 8   neutral     41243 non-null  bool  \n",
            "dtypes: bool(1), int64(2), object(6)\n",
            "memory usage: 2.6+ MB\n",
            "None\n"
          ]
        }
      ]
    },
    {
      "cell_type": "code",
      "source": [
        "print(df.describe()) # Muestra el resumen estadístico de las columnas numéricas."
      ],
      "metadata": {
        "colab": {
          "base_uri": "https://localhost:8080/"
        },
        "id": "yRgxy-2eCmlI",
        "outputId": "c1d6b922-3d4c-46f2-9ea5-f531662e8f52"
      },
      "execution_count": 8,
      "outputs": [
        {
          "output_type": "stream",
          "name": "stdout",
          "text": [
            "         home_score    away_score\n",
            "count  41243.000000  41243.000000\n",
            "mean       1.744975      1.189317\n",
            "std        1.750513      1.406648\n",
            "min        0.000000      0.000000\n",
            "25%        1.000000      0.000000\n",
            "50%        1.000000      1.000000\n",
            "75%        2.000000      2.000000\n",
            "max       31.000000     21.000000\n"
          ]
        }
      ]
    },
    {
      "cell_type": "markdown",
      "source": [
        "**3. Limpieza de datos**\n",
        "\n",
        "Identificamos y manejamos los valores faltantes en el conjunto de datos. En esta ocasión usaremos la función isnull() para detectar valores faltantes y luego decidir cómo tratarlos, ya sea eliminándolos o imputándolos con valores apropiados."
      ],
      "metadata": {
        "id": "p3Dr_pnPEXz_"
      }
    },
    {
      "cell_type": "code",
      "source": [
        "print(df.isnull().sum()) # Identifica valores faltantes por columna"
      ],
      "metadata": {
        "id": "JoEQ2HK1jUeV",
        "outputId": "98084a54-f415-4a1f-8f90-a9e6c700cbe2",
        "colab": {
          "base_uri": "https://localhost:8080/"
        }
      },
      "execution_count": 34,
      "outputs": [
        {
          "output_type": "stream",
          "name": "stdout",
          "text": [
            "date          0\n",
            "home_team     0\n",
            "away_team     0\n",
            "home_score    0\n",
            "away_score    0\n",
            "tournament    0\n",
            "city          0\n",
            "country       0\n",
            "neutral       0\n",
            "dtype: int64\n"
          ]
        }
      ]
    },
    {
      "cell_type": "markdown",
      "source": [
        "**4. Transformación de Datos:**\n",
        "\n"
      ],
      "metadata": {
        "id": "lkAYqqjqlPw3"
      }
    },
    {
      "cell_type": "code",
      "source": [
        "# Convertir la columna 'date' a tipo datetime\n",
        "df['date'] = pd.to_datetime(df['date'])\n"
      ],
      "metadata": {
        "id": "bllx5AnolBjp"
      },
      "execution_count": 11,
      "outputs": []
    },
    {
      "cell_type": "markdown",
      "source": [
        "**5. Exploración más Detallada:**\n",
        "\n",
        "Realiza un análisis más profundo de los datos para entender su distribución y características."
      ],
      "metadata": {
        "id": "IeFNa8m2lgLf"
      }
    },
    {
      "cell_type": "code",
      "source": [
        "# Exploración de variables categóricas\n",
        "print(df['tournament'].value_counts())\n",
        "print(\"Win Home team: \",df['home_team'].nunique())\n",
        "print(\"Win Away Team: \",df['away_team'].nunique())"
      ],
      "metadata": {
        "id": "2Ma_QL6eldd2",
        "outputId": "b09a108a-7399-476f-9176-261761f5e341",
        "colab": {
          "base_uri": "https://localhost:8080/"
        }
      },
      "execution_count": 18,
      "outputs": [
        {
          "output_type": "stream",
          "name": "stdout",
          "text": [
            "Friendly                                17011\n",
            "FIFA World Cup qualification             7100\n",
            "UEFA Euro qualification                  2532\n",
            "African Cup of Nations qualification     1624\n",
            "FIFA World Cup                            900\n",
            "                                        ...  \n",
            "OSN Cup                                     4\n",
            "World Unity Cup                             4\n",
            "AFF Championship qualification              2\n",
            "Copa América qualification                  2\n",
            "Atlantic Heritage Cup                       2\n",
            "Name: tournament, Length: 112, dtype: int64\n",
            "Win Home team:  310\n",
            "Win Away Team:  307\n"
          ]
        }
      ]
    },
    {
      "cell_type": "markdown",
      "source": [
        "# **Inferencia Frecuentista**"
      ],
      "metadata": {
        "id": "qO7T2SHXETZw"
      }
    },
    {
      "cell_type": "markdown",
      "source": [
        "**Cálculo de Estadísticas Descriptivas:**\n",
        "\n",
        "Calcular la media, la desviación estándar y otras estadísticas relevantes para comprender el rendimiento de los equipos.\n",
        "python\n"
      ],
      "metadata": {
        "id": "BhLTYctynAUM"
      }
    },
    {
      "cell_type": "code",
      "source": [
        "# Calcular la media y desviación estándar de los puntajes de los equipos\n",
        "home_mean = df['home_score'].mean()\n",
        "home_std = df['home_score'].std()\n",
        "\n",
        "away_mean = df['away_score'].mean()\n",
        "away_std = df['away_score'].std()\n",
        "\n",
        "print(f\"Media de puntajes en casa: {home_mean:.2f}\")\n",
        "print(f\"Desviación estándar de puntajes en casa: {home_std:.2f}\")\n",
        "print(f\"Media de puntajes fuera de casa: {away_mean:.2f}\")\n",
        "print(f\"Desviación estándar de puntajes fuera de casa: {away_std:.2f}\")\n"
      ],
      "metadata": {
        "id": "XKtXMLArm-JF",
        "outputId": "e791393c-3fb9-47d3-e0e5-13eecfdd0cbf",
        "colab": {
          "base_uri": "https://localhost:8080/"
        }
      },
      "execution_count": 19,
      "outputs": [
        {
          "output_type": "stream",
          "name": "stdout",
          "text": [
            "Media de puntajes en casa: 1.74\n",
            "Desviación estándar de puntajes en casa: 1.75\n",
            "Media de puntajes fuera de casa: 1.19\n",
            "Desviación estándar de puntajes fuera de casa: 1.41\n"
          ]
        }
      ]
    },
    {
      "cell_type": "markdown",
      "source": [
        "**Proporciones de Victoria, Empate y Derrota:**\n",
        "\n",
        "Calcula la proporción de partidos ganados, empatados y perdidos por cada equipo."
      ],
      "metadata": {
        "id": "ACqPXxV7ohd4"
      }
    },
    {
      "cell_type": "code",
      "source": [
        "team_results = pd.concat([\n",
        "    df['home_team'], df['away_team'], df['home_score'], df['away_score']], axis=1)\n",
        "\n",
        "team_results = team_results.melt(\n",
        "    id_vars=['home_team', 'away_team'], value_vars=['home_score', 'away_score'],\n",
        "    value_name='score', var_name='location')\n",
        "\n",
        "team_results['result'] = team_results['score'].apply(lambda x: 'win' if x > 0 else 'lose' if x < 0 else 'draw')\n",
        "\n",
        "team_result_counts = team_results.groupby(['home_team', 'result'])['result'].count().unstack(fill_value=0)\n",
        "team_result_proportions = team_result_counts.apply(lambda x: x / x.sum(), axis=1)\n",
        "\n",
        "print(team_result_proportions.head())\n"
      ],
      "metadata": {
        "id": "4VOXD1TmolKp",
        "outputId": "52106c4d-9f11-46a4-866f-52fff141091a",
        "colab": {
          "base_uri": "https://localhost:8080/"
        }
      },
      "execution_count": 21,
      "outputs": [
        {
          "output_type": "stream",
          "name": "stdout",
          "text": [
            "result           draw       win\n",
            "home_team                      \n",
            "Abkhazia     0.361111  0.638889\n",
            "Afghanistan  0.364865  0.635135\n",
            "Albania      0.343931  0.656069\n",
            "Alderney     0.285714  0.714286\n",
            "Algeria      0.323024  0.676976\n"
          ]
        }
      ]
    },
    {
      "cell_type": "markdown",
      "source": [
        "Intervalos de Confianza:\n",
        "\n",
        "Calcula intervalos de confianza para las estadísticas calculadas (como la proporción de victorias) utilizando métodos frecuentistas."
      ],
      "metadata": {
        "id": "sR1mazTdDied"
      }
    },
    {
      "cell_type": "code",
      "source": [
        "import scipy.stats as stats"
      ],
      "metadata": {
        "id": "82Cn7xM2EJj7"
      },
      "execution_count": 23,
      "outputs": []
    },
    {
      "cell_type": "code",
      "source": [
        "confidence_level = 0.95\n",
        "\n",
        "# Calcular intervalos de confianza para las proporciones de victorias\n",
        "conf_interval = stats.binom.interval(confidence_level, n=team_result_counts.sum(axis=1), p=team_result_proportions['win'])\n",
        "team_result_proportions['win_conf_interval'] = list(zip(conf_interval[0], conf_interval[1]))\n",
        "\n",
        "print(team_result_proportions.head())\n"
      ],
      "metadata": {
        "id": "o2ICMEGpm-HC",
        "outputId": "e592e91a-aa5a-4311-8ab8-b061628fbd50",
        "colab": {
          "base_uri": "https://localhost:8080/"
        }
      },
      "execution_count": 24,
      "outputs": [
        {
          "output_type": "stream",
          "name": "stdout",
          "text": [
            "result           draw       win win_conf_interval\n",
            "home_team                                        \n",
            "Abkhazia     0.361111  0.638889      (17.0, 28.0)\n",
            "Afghanistan  0.364865  0.635135      (39.0, 55.0)\n",
            "Albania      0.343931  0.656069    (210.0, 244.0)\n",
            "Alderney     0.285714  0.714286       (7.0, 13.0)\n",
            "Algeria      0.323024  0.676976    (372.0, 416.0)\n"
          ]
        }
      ]
    },
    {
      "cell_type": "markdown",
      "source": [
        "Con estos pasos, habrás realizado un análisis de inferencia frecuentista sobre los resultados deportivos. Tendrás estimaciones de las estadísticas clave y habrás calculado intervalos de confianza para las proporciones de victoria, empate y derrota para cada equipo."
      ],
      "metadata": {
        "id": "_icWmK21FEjS"
      }
    },
    {
      "cell_type": "markdown",
      "source": [
        "# **Inferencia Bayesiana**"
      ],
      "metadata": {
        "id": "mK4pBxHIFZiJ"
      }
    },
    {
      "cell_type": "markdown",
      "source": [
        "**Definición de Creencias Previas (Priors):**\n",
        "\n",
        "Decide qué tipo de distribuciones prior utilizar para modelar el rendimiento de los equipos. Puedes optar por distribuciones uniformes, normales u otras según tu conocimiento previo."
      ],
      "metadata": {
        "id": "9d6-9xKzFdKx"
      }
    },
    {
      "cell_type": "code",
      "source": [
        "# Definir creencias previas para el rendimiento de los equipos\n",
        "# Por ejemplo, asumamos una distribución normal para los puntajes de los equipos\n",
        "prior_mean = 1.0  # Media prior\n",
        "prior_std = 0.5   # Desviación estándar prior\n"
      ],
      "metadata": {
        "id": "6eRweeBwFigX"
      },
      "execution_count": 25,
      "outputs": []
    },
    {
      "cell_type": "markdown",
      "source": [
        "**Actualización de Creencias con Datos Observados:**\n",
        "\n",
        "Utiliza el teorema de Bayes para actualizar las creencias previas a medida que observas más resultados."
      ],
      "metadata": {
        "id": "JTpRWyN6FmHI"
      }
    },
    {
      "cell_type": "code",
      "source": [
        "# Actualizar creencias previas con resultados observados (puntajes de los equipos)\n",
        "# Utiliza la distribución normal conjugada para actualización bayesiana\n",
        "posterior_mean = (prior_mean * prior_std ** 2 + df['home_score'].sum() + df['away_score'].sum()) / (2 * prior_std ** 2 + df.shape[0])\n",
        "posterior_std = (prior_std ** 2 * df.shape[0]) / (2 * prior_std ** 2 + df.shape[0])\n",
        "\n",
        "print(f\"Media posterior: {posterior_mean:.2f}\")\n",
        "print(f\"Desviación estándar posterior: {posterior_std:.2f}\")\n"
      ],
      "metadata": {
        "id": "kneuIwygFsKN",
        "outputId": "40d9ac48-4698-4339-ef81-0a884d70b7d6",
        "colab": {
          "base_uri": "https://localhost:8080/"
        }
      },
      "execution_count": 27,
      "outputs": [
        {
          "output_type": "stream",
          "name": "stdout",
          "text": [
            "Media posterior: 2.93\n",
            "Desviación estándar posterior: 0.25\n"
          ]
        }
      ]
    },
    {
      "cell_type": "markdown",
      "source": [
        "**Generación de Intervalos de Credibilidad:**\n",
        "\n",
        "Calcula intervalos de credibilidad para las estimaciones bayesianas. Estos intervalos reflejan la incertidumbre en las estimaciones."
      ],
      "metadata": {
        "id": "77I0WF1aF7d-"
      }
    },
    {
      "cell_type": "code",
      "source": [
        "credibility_interval = stats.norm.interval(confidence_level, loc=posterior_mean, scale=posterior_std)\n",
        "\n",
        "print(f\"Intervalo de credibilidad: {credibility_interval}\")"
      ],
      "metadata": {
        "id": "zV6LBqONm-EX",
        "outputId": "17033b3b-de91-4ec0-92ae-412930ae4772",
        "colab": {
          "base_uri": "https://localhost:8080/"
        }
      },
      "execution_count": 28,
      "outputs": [
        {
          "output_type": "stream",
          "name": "stdout",
          "text": [
            "Intervalo de credibilidad: (2.4442773127014834, 3.4242474245298378)\n"
          ]
        }
      ]
    },
    {
      "cell_type": "markdown",
      "source": [
        "**Comparación de Resultados Frecuentistas y Bayesianos:**\n",
        "\n",
        "Compara las estimaciones obtenidas mediante inferencia frecuentista con las estimaciones bayesianas y analiza cómo difieren."
      ],
      "metadata": {
        "id": "DhaRRyslGj-4"
      }
    },
    {
      "cell_type": "code",
      "source": [
        "print(f\"Inferencia Frecuentista - Proporción de victorias: {team_result_proportions['win'].head()}\")\n",
        "print(f\"Inferencia Bayesiana - Media posterior: {posterior_mean:.2f}\")\n",
        "print(f\"Inferencia Bayesiana - Intervalo de credibilidad: {credibility_interval}\")\n"
      ],
      "metadata": {
        "id": "nOoXrwPhGrk3",
        "outputId": "3363df5f-5d6b-4ba4-b071-79c2ecc073a9",
        "colab": {
          "base_uri": "https://localhost:8080/"
        }
      },
      "execution_count": 29,
      "outputs": [
        {
          "output_type": "stream",
          "name": "stdout",
          "text": [
            "Inferencia Frecuentista - Proporción de victorias: home_team\n",
            "Abkhazia       0.638889\n",
            "Afghanistan    0.635135\n",
            "Albania        0.656069\n",
            "Alderney       0.714286\n",
            "Algeria        0.676976\n",
            "Name: win, dtype: float64\n",
            "Inferencia Bayesiana - Media posterior: 2.93\n",
            "Inferencia Bayesiana - Intervalo de credibilidad: (2.4442773127014834, 3.4242474245298378)\n"
          ]
        }
      ]
    },
    {
      "cell_type": "markdown",
      "source": [
        "Con estos pasos, habrás realizado un análisis de inferencia bayesiana sobre los resultados deportivos. Habrás definido creencias previas, actualizado estas creencias con datos observados y generado intervalos de credibilidad para las estimaciones bayesianas."
      ],
      "metadata": {
        "id": "t1btbrqTHv3w"
      }
    },
    {
      "cell_type": "markdown",
      "source": [
        "# **Comparación y Análisis**"
      ],
      "metadata": {
        "id": "CJ3XQxnLHyuL"
      }
    },
    {
      "cell_type": "markdown",
      "source": [
        "**Comparación de Estimaciones de Rendimiento:**\n",
        "\n",
        "- Compara las estimaciones de rendimiento obtenidas a través de la inferencia frecuentista y la inferencia bayesiana.\n",
        "- Visualiza estas estimaciones para algunos equipos seleccionados."
      ],
      "metadata": {
        "id": "3S6BTOpJH3q3"
      }
    },
    {
      "cell_type": "code",
      "source": [
        "import matplotlib.pyplot as plt"
      ],
      "metadata": {
        "id": "GySIYzSDH-vj"
      },
      "execution_count": 30,
      "outputs": []
    },
    {
      "cell_type": "code",
      "source": [
        "# Seleccionar equipos para comparar\n",
        "selected_teams = ['Argentina', 'Brazil', 'Germany', 'Italy', 'Spain']\n",
        "\n",
        "# Obtener estimaciones de rendimiento de los equipos seleccionados\n",
        "selected_team_frequentist = team_result_proportions.loc[selected_teams, 'win']\n",
        "selected_team_bayesian = [stats.norm.cdf(0, loc=posterior_mean, scale=posterior_std) for _ in selected_teams]\n",
        "\n",
        "# Crear gráficos de barras comparativos\n",
        "plt.bar(selected_teams, selected_team_frequentist, label='Frecuentista', alpha=0.7)\n",
        "plt.bar(selected_teams, selected_team_bayesian, label='Bayesiano', alpha=0.7)\n",
        "plt.xlabel('Equipos')\n",
        "plt.ylabel('Proporción de victorias')\n",
        "plt.title('Comparación de Proporciones de Victorias')\n",
        "plt.legend()\n",
        "plt.xticks(rotation=45)\n",
        "plt.show()\n"
      ],
      "metadata": {
        "id": "HMf-kQkOH8HS",
        "outputId": "84c89448-5f18-484a-e9ba-89e4d85c1125",
        "colab": {
          "base_uri": "https://localhost:8080/",
          "height": 516
        }
      },
      "execution_count": 31,
      "outputs": [
        {
          "output_type": "display_data",
          "data": {
            "text/plain": [
              "<Figure size 640x480 with 1 Axes>"
            ],
            "image/png": "[encoded data removed]"
          },
          "metadata": {}
        }
      ]
    },
    {
      "cell_type": "markdown",
      "source": [
        "**Comparación de Intervalos de Confianza y Credibilidad:**\n",
        "\n",
        "- Compara cómo se generan los intervalos de confianza en la inferencia frecuentista y los intervalos de credibilidad en la inferencia bayesiana."
      ],
      "metadata": {
        "id": "7jM52RFIIICI"
      }
    },
    {
      "cell_type": "code",
      "source": [
        "print(f\"Intervalos de confianza frecuentistas:\\n{team_result_proportions['win_conf_interval'].head()}\")\n",
        "print(f\"Intervalos de credibilidad bayesianos:\\n{credibility_interval}\")\n"
      ],
      "metadata": {
        "id": "lleakyx8m-CE",
        "outputId": "d6d9f5a9-ac71-43a9-ebc7-eeb30caa6d6b",
        "colab": {
          "base_uri": "https://localhost:8080/"
        }
      },
      "execution_count": 32,
      "outputs": [
        {
          "output_type": "stream",
          "name": "stdout",
          "text": [
            "Intervalos de confianza frecuentistas:\n",
            "home_team\n",
            "Abkhazia         (17.0, 28.0)\n",
            "Afghanistan      (39.0, 55.0)\n",
            "Albania        (210.0, 244.0)\n",
            "Alderney          (7.0, 13.0)\n",
            "Algeria        (372.0, 416.0)\n",
            "Name: win_conf_interval, dtype: object\n",
            "Intervalos de credibilidad bayesianos:\n",
            "(2.4442773127014834, 3.4242474245298378)\n"
          ]
        }
      ]
    },
    {
      "cell_type": "code",
      "source": [],
      "metadata": {
        "id": "z5o4XzSum9o2"
      },
      "execution_count": null,
      "outputs": []
    },
    {
      "cell_type": "code",
      "source": [],
      "metadata": {
        "id": "jRmw3KdCm9fa"
      },
      "execution_count": null,
      "outputs": []
    },
    {
      "cell_type": "code",
      "source": [],
      "metadata": {
        "id": "JbI92kYX7_c7"
      },
      "execution_count": null,
      "outputs": []
    }
  ]
}