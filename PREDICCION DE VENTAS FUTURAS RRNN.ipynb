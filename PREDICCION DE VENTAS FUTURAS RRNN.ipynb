{
  "nbformat": 4,
  "nbformat_minor": 0,
  "metadata": {
    "colab": {
      "provenance": []
    },
    "kernelspec": {
      "name": "python3",
      "display_name": "Python 3"
    },
    "language_info": {
      "name": "python"
    }
  },
  "cells": [
    {
      "cell_type": "markdown",
      "source": [
        "# PREDICCIÓN DE VENTAS FUTURAS"
      ],
      "metadata": {
        "id": "Te3bjPAewDI5"
      }
    },
    {
      "cell_type": "markdown",
      "source": [
        "## PREPARACIÓN DE LOS DATOS"
      ],
      "metadata": {
        "id": "m2eRSw_C4Qt4"
      }
    },
    {
      "cell_type": "code",
      "execution_count": null,
      "metadata": {
        "id": "avHrw7G63AkZ"
      },
      "outputs": [],
      "source": [
        "import numpy as np\n",
        "import pandas as pd\n",
        "import matplotlib.pyplot as plt\n",
        "import seaborn as sns\n",
        "from tensorflow.keras.models import Sequential\n",
        "from tensorflow.keras.layers import LSTM, Dense\n",
        "from sklearn.preprocessing import MinMaxScaler\n",
        "from sklearn.model_selection import train_test_split"
      ]
    },
    {
      "cell_type": "code",
      "source": [
        "data = pd.read_csv('/content/drive/MyDrive/Colab Notebooks/venta.csv', sep=\",\") #Ordena el dataFrame respecto al índice que es  la columna FECHA"
      ],
      "metadata": {
        "id": "BDVEbWXi5AIc"
      },
      "execution_count": null,
      "outputs": []
    },
    {
      "cell_type": "code",
      "source": [
        "data['FECHA'] = pd.to_datetime(data['FECHA'], format = '%d/%m/%Y')\n",
        "data.set_index('FECHA', inplace=True)\n",
        "data.sort_index(inplace=True, ascending=True)"
      ],
      "metadata": {
        "id": "G15OtxhGttUK"
      },
      "execution_count": null,
      "outputs": []
    },
    {
      "cell_type": "code",
      "source": [
        "data"
      ],
      "metadata": {
        "colab": {
          "base_uri": "https://localhost:8080/",
          "height": 455
        },
        "id": "j1JHz9Q8rn4d",
        "outputId": "67cab8f2-ac97-4664-8ca3-6b4ab498a858"
      },
      "execution_count": null,
      "outputs": [
        {
          "output_type": "execute_result",
          "data": {
            "text/plain": [
              "              ValorVenta\n",
              "FECHA                   \n",
              "2023-01-02  1.561314e+01\n",
              "2023-01-03  7.148584e+05\n",
              "2023-01-04  8.370905e+05\n",
              "2023-01-05  8.078090e+05\n",
              "2023-01-06  7.978924e+05\n",
              "...                  ...\n",
              "2023-10-09  6.222160e+06\n",
              "2023-10-10  6.621843e+06\n",
              "2023-10-11  6.469491e+06\n",
              "2023-10-12  9.210057e+06\n",
              "2023-10-13  6.765937e+06\n",
              "\n",
              "[267 rows x 1 columns]"
            ],
            "text/html": [
              "\n",
              "  <div id=\"df-6a834d62-f255-4bf7-be1a-5ff6a2d6db60\" class=\"colab-df-container\">\n",
              "    <div>\n",
              "<style scoped>\n",
              "    .dataframe tbody tr th:only-of-type {\n",
              "        vertical-align: middle;\n",
              "    }\n",
              "\n",
              "    .dataframe tbody tr th {\n",
              "        vertical-align: top;\n",
              "    }\n",
              "\n",
              "    .dataframe thead th {\n",
              "        text-align: right;\n",
              "    }\n",
              "</style>\n",
              "<table border=\"1\" class=\"dataframe\">\n",
              "  <thead>\n",
              "    <tr style=\"text-align: right;\">\n",
              "      <th></th>\n",
              "      <th>ValorVenta</th>\n",
              "    </tr>\n",
              "    <tr>\n",
              "      <th>FECHA</th>\n",
              "      <th></th>\n",
              "    </tr>\n",
              "  </thead>\n",
              "  <tbody>\n",
              "    <tr>\n",
              "      <th>2023-01-02</th>\n",
              "      <td>1.561314e+01</td>\n",
              "    </tr>\n",
              "    <tr>\n",
              "      <th>2023-01-03</th>\n",
              "      <td>7.148584e+05</td>\n",
              "    </tr>\n",
              "    <tr>\n",
              "      <th>2023-01-04</th>\n",
              "      <td>8.370905e+05</td>\n",
              "    </tr>\n",
              "    <tr>\n",
              "      <th>2023-01-05</th>\n",
              "      <td>8.078090e+05</td>\n",
              "    </tr>\n",
              "    <tr>\n",
              "      <th>2023-01-06</th>\n",
              "      <td>7.978924e+05</td>\n",
              "    </tr>\n",
              "    <tr>\n",
              "      <th>...</th>\n",
              "      <td>...</td>\n",
              "    </tr>\n",
              "    <tr>\n",
              "      <th>2023-10-09</th>\n",
              "      <td>6.222160e+06</td>\n",
              "    </tr>\n",
              "    <tr>\n",
              "      <th>2023-10-10</th>\n",
              "      <td>6.621843e+06</td>\n",
              "    </tr>\n",
              "    <tr>\n",
              "      <th>2023-10-11</th>\n",
              "      <td>6.469491e+06</td>\n",
              "    </tr>\n",
              "    <tr>\n",
              "      <th>2023-10-12</th>\n",
              "      <td>9.210057e+06</td>\n",
              "    </tr>\n",
              "    <tr>\n",
              "      <th>2023-10-13</th>\n",
              "      <td>6.765937e+06</td>\n",
              "    </tr>\n",
              "  </tbody>\n",
              "</table>\n",
              "<p>267 rows × 1 columns</p>\n",
              "</div>\n",
              "    <div class=\"colab-df-buttons\">\n",
              "\n",
              "  <div class=\"colab-df-container\">\n",
              "    <button class=\"colab-df-convert\" onclick=\"convertToInteractive('df-6a834d62-f255-4bf7-be1a-5ff6a2d6db60')\"\n",
              "            title=\"Convert this dataframe to an interactive table.\"\n",
              "            style=\"display:none;\">\n",
              "\n",
              "  <svg xmlns=\"http://www.w3.org/2000/svg\" height=\"24px\" viewBox=\"0 -960 960 960\">\n",
              "    <path d=\"M120-120v-720h720v720H120Zm60-500h600v-160H180v160Zm220 220h160v-160H400v160Zm0 220h160v-160H400v160ZM180-400h160v-160H180v160Zm440 0h160v-160H620v160ZM180-180h160v-160H180v160Zm440 0h160v-160H620v160Z\"/>\n",
              "  </svg>\n",
              "    </button>\n",
              "\n",
              "  <style>\n",
              "    .colab-df-container {\n",
              "      display:flex;\n",
              "      gap: 12px;\n",
              "    }\n",
              "\n",
              "    .colab-df-convert {\n",
              "      background-color: #E8F0FE;\n",
              "      border: none;\n",
              "      border-radius: 50%;\n",
              "      cursor: pointer;\n",
              "      display: none;\n",
              "      fill: #1967D2;\n",
              "      height: 32px;\n",
              "      padding: 0 0 0 0;\n",
              "      width: 32px;\n",
              "    }\n",
              "\n",
              "    .colab-df-convert:hover {\n",
              "      background-color: #E2EBFA;\n",
              "      box-shadow: 0px 1px 2px rgba(60, 64, 67, 0.3), 0px 1px 3px 1px rgba(60, 64, 67, 0.15);\n",
              "      fill: #174EA6;\n",
              "    }\n",
              "\n",
              "    .colab-df-buttons div {\n",
              "      margin-bottom: 4px;\n",
              "    }\n",
              "\n",
              "    [theme=dark] .colab-df-convert {\n",
              "      background-color: #3B4455;\n",
              "      fill: #D2E3FC;\n",
              "    }\n",
              "\n",
              "    [theme=dark] .colab-df-convert:hover {\n",
              "      background-color: #434B5C;\n",
              "      box-shadow: 0px 1px 3px 1px rgba(0, 0, 0, 0.15);\n",
              "      filter: drop-shadow(0px 1px 2px rgba(0, 0, 0, 0.3));\n",
              "      fill: #FFFFFF;\n",
              "    }\n",
              "  </style>\n",
              "\n",
              "    <script>\n",
              "      const buttonEl =\n",
              "        document.querySelector('#df-6a834d62-f255-4bf7-be1a-5ff6a2d6db60 button.colab-df-convert');\n",
              "      buttonEl.style.display =\n",
              "        google.colab.kernel.accessAllowed ? 'block' : 'none';\n",
              "\n",
              "      async function convertToInteractive(key) {\n",
              "        const element = document.querySelector('#df-6a834d62-f255-4bf7-be1a-5ff6a2d6db60');\n",
              "        const dataTable =\n",
              "          await google.colab.kernel.invokeFunction('convertToInteractive',\n",
              "                                                    [key], {});\n",
              "        if (!dataTable) return;\n",
              "\n",
              "        const docLinkHtml = 'Like what you see? Visit the ' +\n",
              "          '<a target=\"_blank\" href=https://colab.research.google.com/notebooks/data_table.ipynb>data table notebook</a>'\n",
              "          + ' to learn more about interactive tables.';\n",
              "        element.innerHTML = '';\n",
              "        dataTable['output_type'] = 'display_data';\n",
              "        await google.colab.output.renderOutput(dataTable, element);\n",
              "        const docLink = document.createElement('div');\n",
              "        docLink.innerHTML = docLinkHtml;\n",
              "        element.appendChild(docLink);\n",
              "      }\n",
              "    </script>\n",
              "  </div>\n",
              "\n",
              "\n",
              "<div id=\"df-18832b25-8b6a-4358-b6ec-c881f3495970\">\n",
              "  <button class=\"colab-df-quickchart\" onclick=\"quickchart('df-18832b25-8b6a-4358-b6ec-c881f3495970')\"\n",
              "            title=\"Suggest charts.\"\n",
              "            style=\"display:none;\">\n",
              "\n",
              "<svg xmlns=\"http://www.w3.org/2000/svg\" height=\"24px\"viewBox=\"0 0 24 24\"\n",
              "     width=\"24px\">\n",
              "    <g>\n",
              "        <path d=\"M19 3H5c-1.1 0-2 .9-2 2v14c0 1.1.9 2 2 2h14c1.1 0 2-.9 2-2V5c0-1.1-.9-2-2-2zM9 17H7v-7h2v7zm4 0h-2V7h2v10zm4 0h-2v-4h2v4z\"/>\n",
              "    </g>\n",
              "</svg>\n",
              "  </button>\n",
              "\n",
              "<style>\n",
              "  .colab-df-quickchart {\n",
              "      --bg-color: #E8F0FE;\n",
              "      --fill-color: #1967D2;\n",
              "      --hover-bg-color: #E2EBFA;\n",
              "      --hover-fill-color: #174EA6;\n",
              "      --disabled-fill-color: #AAA;\n",
              "      --disabled-bg-color: #DDD;\n",
              "  }\n",
              "\n",
              "  [theme=dark] .colab-df-quickchart {\n",
              "      --bg-color: #3B4455;\n",
              "      --fill-color: #D2E3FC;\n",
              "      --hover-bg-color: #434B5C;\n",
              "      --hover-fill-color: #FFFFFF;\n",
              "      --disabled-bg-color: #3B4455;\n",
              "      --disabled-fill-color: #666;\n",
              "  }\n",
              "\n",
              "  .colab-df-quickchart {\n",
              "    background-color: var(--bg-color);\n",
              "    border: none;\n",
              "    border-radius: 50%;\n",
              "    cursor: pointer;\n",
              "    display: none;\n",
              "    fill: var(--fill-color);\n",
              "    height: 32px;\n",
              "    padding: 0;\n",
              "    width: 32px;\n",
              "  }\n",
              "\n",
              "  .colab-df-quickchart:hover {\n",
              "    background-color: var(--hover-bg-color);\n",
              "    box-shadow: 0 1px 2px rgba(60, 64, 67, 0.3), 0 1px 3px 1px rgba(60, 64, 67, 0.15);\n",
              "    fill: var(--button-hover-fill-color);\n",
              "  }\n",
              "\n",
              "  .colab-df-quickchart-complete:disabled,\n",
              "  .colab-df-quickchart-complete:disabled:hover {\n",
              "    background-color: var(--disabled-bg-color);\n",
              "    fill: var(--disabled-fill-color);\n",
              "    box-shadow: none;\n",
              "  }\n",
              "\n",
              "  .colab-df-spinner {\n",
              "    border: 2px solid var(--fill-color);\n",
              "    border-color: transparent;\n",
              "    border-bottom-color: var(--fill-color);\n",
              "    animation:\n",
              "      spin 1s steps(1) infinite;\n",
              "  }\n",
              "\n",
              "  @keyframes spin {\n",
              "    0% {\n",
              "      border-color: transparent;\n",
              "      border-bottom-color: var(--fill-color);\n",
              "      border-left-color: var(--fill-color);\n",
              "    }\n",
              "    20% {\n",
              "      border-color: transparent;\n",
              "      border-left-color: var(--fill-color);\n",
              "      border-top-color: var(--fill-color);\n",
              "    }\n",
              "    30% {\n",
              "      border-color: transparent;\n",
              "      border-left-color: var(--fill-color);\n",
              "      border-top-color: var(--fill-color);\n",
              "      border-right-color: var(--fill-color);\n",
              "    }\n",
              "    40% {\n",
              "      border-color: transparent;\n",
              "      border-right-color: var(--fill-color);\n",
              "      border-top-color: var(--fill-color);\n",
              "    }\n",
              "    60% {\n",
              "      border-color: transparent;\n",
              "      border-right-color: var(--fill-color);\n",
              "    }\n",
              "    80% {\n",
              "      border-color: transparent;\n",
              "      border-right-color: var(--fill-color);\n",
              "      border-bottom-color: var(--fill-color);\n",
              "    }\n",
              "    90% {\n",
              "      border-color: transparent;\n",
              "      border-bottom-color: var(--fill-color);\n",
              "    }\n",
              "  }\n",
              "</style>\n",
              "\n",
              "  <script>\n",
              "    async function quickchart(key) {\n",
              "      const quickchartButtonEl =\n",
              "        document.querySelector('#' + key + ' button');\n",
              "      quickchartButtonEl.disabled = true;  // To prevent multiple clicks.\n",
              "      quickchartButtonEl.classList.add('colab-df-spinner');\n",
              "      try {\n",
              "        const charts = await google.colab.kernel.invokeFunction(\n",
              "            'suggestCharts', [key], {});\n",
              "      } catch (error) {\n",
              "        console.error('Error during call to suggestCharts:', error);\n",
              "      }\n",
              "      quickchartButtonEl.classList.remove('colab-df-spinner');\n",
              "      quickchartButtonEl.classList.add('colab-df-quickchart-complete');\n",
              "    }\n",
              "    (() => {\n",
              "      let quickchartButtonEl =\n",
              "        document.querySelector('#df-18832b25-8b6a-4358-b6ec-c881f3495970 button');\n",
              "      quickchartButtonEl.style.display =\n",
              "        google.colab.kernel.accessAllowed ? 'block' : 'none';\n",
              "    })();\n",
              "  </script>\n",
              "</div>\n",
              "    </div>\n",
              "  </div>\n"
            ]
          },
          "metadata": {},
          "execution_count": 131
        }
      ]
    },
    {
      "cell_type": "markdown",
      "source": [
        "## ANÁLISIS EXPLORATORIO (EDA)"
      ],
      "metadata": {
        "id": "GooCqV7sb2PY"
      }
    },
    {
      "cell_type": "code",
      "source": [
        "# Gráfico de Serie Temporal\n",
        "data['ValorVenta'].plot()\n",
        "plt.title('Valor de Venta a lo Largo del Tiempo')\n",
        "plt.show()"
      ],
      "metadata": {
        "colab": {
          "base_uri": "https://localhost:8080/",
          "height": 455
        },
        "id": "nvaFr-UGb6M4",
        "outputId": "f455571c-4686-4ba3-fed8-ebb8fbf6ca5d"
      },
      "execution_count": null,
      "outputs": [
        {
          "output_type": "display_data",
          "data": {
            "text/plain": [
              "<Figure size 640x480 with 1 Axes>"
            ],
            "image/png": "[encoded data removed]"
          },
          "metadata": {}
        }
      ]
    },
    {
      "cell_type": "code",
      "source": [
        "# Histograma\n",
        "sns.histplot(data['ValorVenta'], kde=True)\n",
        "plt.title('Distribución de Valor de Venta')\n",
        "plt.show()"
      ],
      "metadata": {
        "colab": {
          "base_uri": "https://localhost:8080/",
          "height": 472
        },
        "id": "8yTsh8aib6Bp",
        "outputId": "0f9641cb-2ba1-4dbe-a8e4-19da43abdfe9"
      },
      "execution_count": null,
      "outputs": [
        {
          "output_type": "display_data",
          "data": {
            "text/plain": [
              "<Figure size 640x480 with 1 Axes>"
            ],
            "image/png": "[encoded data removed]"
          },
          "metadata": {}
        }
      ]
    },
    {
      "cell_type": "code",
      "source": [
        "# Diagrama de Cajas\n",
        "sns.boxplot(x=data['ValorVenta'])\n",
        "plt.title('Boxplot de Valor de Venta')\n",
        "plt.show()"
      ],
      "metadata": {
        "colab": {
          "base_uri": "https://localhost:8080/",
          "height": 472
        },
        "id": "DVvM5lxjb9Iw",
        "outputId": "f393be74-30e0-4684-a01b-df9589fdfbd8"
      },
      "execution_count": null,
      "outputs": [
        {
          "output_type": "display_data",
          "data": {
            "text/plain": [
              "<Figure size 640x480 with 1 Axes>"
            ],
            "image/png": "[encoded data removed]"
          },
          "metadata": {}
        }
      ]
    },
    {
      "cell_type": "markdown",
      "source": [
        "## PREPROCESAMIENTO DE LOS DATOS\n",
        "\n",
        "Escalar los datos y preparar los conjuntos de entrenamiento y prueba:"
      ],
      "metadata": {
        "id": "J-PdBT6B6sP5"
      }
    },
    {
      "cell_type": "code",
      "source": [
        "# Escalar los valores\n",
        "scaler = MinMaxScaler() #Transforma cada columna entre 0 y 1\n",
        "data_scaled = scaler.fit_transform(data) #"
      ],
      "metadata": {
        "id": "xL-AVqqI6oLY"
      },
      "execution_count": null,
      "outputs": []
    },
    {
      "cell_type": "code",
      "source": [
        "# Creamos sequencias de datos para el modelo LSTM\n",
        "def create_sequences(data, sequence_lenght): #Longitud de la secuencia deseada para cada muestra\n",
        "  X, y = [], []\n",
        "  for i in range(len(data) - sequence_lenght):\n",
        "    X.append(data[i:i+sequence_lenght])\n",
        "    y.append(data[i+sequence_lenght])\n",
        "  return np.array(X), np.array(y)\n",
        "\n",
        "SEQUENCE_LENGHT = 5\n",
        "X, y = create_sequences(data_scaled, SEQUENCE_LENGHT)"
      ],
      "metadata": {
        "id": "Lk-4cTc59x7j"
      },
      "execution_count": null,
      "outputs": []
    },
    {
      "cell_type": "code",
      "source": [
        "# Dividir datos\n",
        "\n",
        "X_train, X_test, y_train, y_test = train_test_split(X, y, test_size = 0.2, shuffle = False)"
      ],
      "metadata": {
        "id": "tqoI90_c9zsC"
      },
      "execution_count": null,
      "outputs": []
    },
    {
      "cell_type": "markdown",
      "source": [
        "## CONSTRUCCIÓN DEL MODELO LSTM\n",
        "\n",
        "Construir y compilar el modelo LSTM:\n",
        "\n"
      ],
      "metadata": {
        "id": "NTJbce8b-dIz"
      }
    },
    {
      "cell_type": "code",
      "source": [
        "# Definamos el modelo LSTM\n",
        "\n",
        "model = Sequential()\n",
        "model.add(LSTM(50, return_sequences = True, input_shape = (SEQUENCE_LENGHT, 1)))\n",
        "model.add(LSTM(50))\n",
        "model.add(Dense(1))"
      ],
      "metadata": {
        "id": "LTpSb9tT-NYy"
      },
      "execution_count": null,
      "outputs": []
    },
    {
      "cell_type": "code",
      "source": [
        "model.compile(optimizer = 'adam', loss = 'mean_squared_error')"
      ],
      "metadata": {
        "id": "bCyhXfxQ_WhL"
      },
      "execution_count": null,
      "outputs": []
    },
    {
      "cell_type": "code",
      "source": [
        "model.summary()"
      ],
      "metadata": {
        "colab": {
          "base_uri": "https://localhost:8080/"
        },
        "id": "KQrmazlg_hWc",
        "outputId": "f3a953c3-f9e1-4470-f15e-3c6be744ceef"
      },
      "execution_count": null,
      "outputs": [
        {
          "output_type": "stream",
          "name": "stdout",
          "text": [
            "Model: \"sequential_13\"\n",
            "_________________________________________________________________\n",
            " Layer (type)                Output Shape              Param #   \n",
            "=================================================================\n",
            " lstm_26 (LSTM)              (None, 5, 50)             10400     \n",
            "                                                                 \n",
            " lstm_27 (LSTM)              (None, 50)                20200     \n",
            "                                                                 \n",
            " dense_13 (Dense)            (None, 1)                 51        \n",
            "                                                                 \n",
            "=================================================================\n",
            "Total params: 30651 (119.73 KB)\n",
            "Trainable params: 30651 (119.73 KB)\n",
            "Non-trainable params: 0 (0.00 Byte)\n",
            "_________________________________________________________________\n"
          ]
        }
      ]
    },
    {
      "cell_type": "markdown",
      "source": [
        "## ENTRENAMIENTO DEL MODELO\n",
        "\n",
        "Entrenar el modelo utilizando los datos preparados:"
      ],
      "metadata": {
        "id": "o4aQk_yT_zti"
      }
    },
    {
      "cell_type": "code",
      "source": [
        "# Entrenar el modelo\n",
        "\n",
        "history = model.fit(\n",
        "    X_train, y_train,\n",
        "    epochs = 50,\n",
        "    batch_size = 32,\n",
        "    validation_split = 0.1,\n",
        "    verbose = 1\n",
        ")"
      ],
      "metadata": {
        "colab": {
          "base_uri": "https://localhost:8080/"
        },
        "id": "JZREEcT6_s9J",
        "outputId": "44a436d1-f5d2-472e-a4e9-a79f9f26d538"
      },
      "execution_count": null,
      "outputs": [
        {
          "output_type": "stream",
          "name": "stdout",
          "text": [
            "Epoch 1/50\n",
            "6/6 [==============================] - 4s 263ms/step - loss: 0.0045 - val_loss: 0.0023\n",
            "Epoch 2/50\n",
            "6/6 [==============================] - 0s 15ms/step - loss: 0.0027 - val_loss: 0.0032\n",
            "Epoch 3/50\n",
            "6/6 [==============================] - 0s 13ms/step - loss: 0.0020 - val_loss: 0.0024\n",
            "Epoch 4/50\n",
            "6/6 [==============================] - 0s 14ms/step - loss: 0.0018 - val_loss: 0.0026\n",
            "Epoch 5/50\n",
            "6/6 [==============================] - 0s 14ms/step - loss: 0.0019 - val_loss: 0.0023\n",
            "Epoch 6/50\n",
            "6/6 [==============================] - 0s 13ms/step - loss: 0.0016 - val_loss: 0.0023\n",
            "Epoch 7/50\n",
            "6/6 [==============================] - 0s 12ms/step - loss: 0.0017 - val_loss: 0.0023\n",
            "Epoch 8/50\n",
            "6/6 [==============================] - 0s 14ms/step - loss: 0.0017 - val_loss: 0.0023\n",
            "Epoch 9/50\n",
            "6/6 [==============================] - 0s 13ms/step - loss: 0.0017 - val_loss: 0.0023\n",
            "Epoch 10/50\n",
            "6/6 [==============================] - 0s 13ms/step - loss: 0.0017 - val_loss: 0.0023\n",
            "Epoch 11/50\n",
            "6/6 [==============================] - 0s 14ms/step - loss: 0.0017 - val_loss: 0.0023\n",
            "Epoch 12/50\n",
            "6/6 [==============================] - 0s 12ms/step - loss: 0.0017 - val_loss: 0.0023\n",
            "Epoch 13/50\n",
            "6/6 [==============================] - 0s 12ms/step - loss: 0.0017 - val_loss: 0.0023\n",
            "Epoch 14/50\n",
            "6/6 [==============================] - 0s 17ms/step - loss: 0.0017 - val_loss: 0.0023\n",
            "Epoch 15/50\n",
            "6/6 [==============================] - 0s 13ms/step - loss: 0.0017 - val_loss: 0.0023\n",
            "Epoch 16/50\n",
            "6/6 [==============================] - 0s 13ms/step - loss: 0.0016 - val_loss: 0.0023\n",
            "Epoch 17/50\n",
            "6/6 [==============================] - 0s 14ms/step - loss: 0.0016 - val_loss: 0.0022\n",
            "Epoch 18/50\n",
            "6/6 [==============================] - 0s 16ms/step - loss: 0.0016 - val_loss: 0.0022\n",
            "Epoch 19/50\n",
            "6/6 [==============================] - 0s 12ms/step - loss: 0.0016 - val_loss: 0.0022\n",
            "Epoch 20/50\n",
            "6/6 [==============================] - 0s 13ms/step - loss: 0.0016 - val_loss: 0.0023\n",
            "Epoch 21/50\n",
            "6/6 [==============================] - 0s 14ms/step - loss: 0.0016 - val_loss: 0.0022\n",
            "Epoch 22/50\n",
            "6/6 [==============================] - 0s 16ms/step - loss: 0.0016 - val_loss: 0.0022\n",
            "Epoch 23/50\n",
            "6/6 [==============================] - 0s 14ms/step - loss: 0.0016 - val_loss: 0.0022\n",
            "Epoch 24/50\n",
            "6/6 [==============================] - 0s 15ms/step - loss: 0.0016 - val_loss: 0.0022\n",
            "Epoch 25/50\n",
            "6/6 [==============================] - 0s 14ms/step - loss: 0.0016 - val_loss: 0.0022\n",
            "Epoch 26/50\n",
            "6/6 [==============================] - 0s 9ms/step - loss: 0.0016 - val_loss: 0.0022\n",
            "Epoch 27/50\n",
            "6/6 [==============================] - 0s 10ms/step - loss: 0.0016 - val_loss: 0.0022\n",
            "Epoch 28/50\n",
            "6/6 [==============================] - 0s 10ms/step - loss: 0.0016 - val_loss: 0.0022\n",
            "Epoch 29/50\n",
            "6/6 [==============================] - 0s 11ms/step - loss: 0.0016 - val_loss: 0.0022\n",
            "Epoch 30/50\n",
            "6/6 [==============================] - 0s 10ms/step - loss: 0.0016 - val_loss: 0.0022\n",
            "Epoch 31/50\n",
            "6/6 [==============================] - 0s 11ms/step - loss: 0.0016 - val_loss: 0.0022\n",
            "Epoch 32/50\n",
            "6/6 [==============================] - 0s 10ms/step - loss: 0.0016 - val_loss: 0.0022\n",
            "Epoch 33/50\n",
            "6/6 [==============================] - 0s 11ms/step - loss: 0.0016 - val_loss: 0.0022\n",
            "Epoch 34/50\n",
            "6/6 [==============================] - 0s 10ms/step - loss: 0.0016 - val_loss: 0.0022\n",
            "Epoch 35/50\n",
            "6/6 [==============================] - 0s 11ms/step - loss: 0.0016 - val_loss: 0.0022\n",
            "Epoch 36/50\n",
            "6/6 [==============================] - 0s 10ms/step - loss: 0.0016 - val_loss: 0.0022\n",
            "Epoch 37/50\n",
            "6/6 [==============================] - 0s 12ms/step - loss: 0.0016 - val_loss: 0.0022\n",
            "Epoch 38/50\n",
            "6/6 [==============================] - 0s 10ms/step - loss: 0.0016 - val_loss: 0.0022\n",
            "Epoch 39/50\n",
            "6/6 [==============================] - 0s 10ms/step - loss: 0.0016 - val_loss: 0.0022\n",
            "Epoch 40/50\n",
            "6/6 [==============================] - 0s 10ms/step - loss: 0.0016 - val_loss: 0.0022\n",
            "Epoch 41/50\n",
            "6/6 [==============================] - 0s 10ms/step - loss: 0.0016 - val_loss: 0.0022\n",
            "Epoch 42/50\n",
            "6/6 [==============================] - 0s 9ms/step - loss: 0.0016 - val_loss: 0.0022\n",
            "Epoch 43/50\n",
            "6/6 [==============================] - 0s 9ms/step - loss: 0.0016 - val_loss: 0.0022\n",
            "Epoch 44/50\n",
            "6/6 [==============================] - 0s 9ms/step - loss: 0.0016 - val_loss: 0.0022\n",
            "Epoch 45/50\n",
            "6/6 [==============================] - 0s 9ms/step - loss: 0.0016 - val_loss: 0.0022\n",
            "Epoch 46/50\n",
            "6/6 [==============================] - 0s 10ms/step - loss: 0.0016 - val_loss: 0.0022\n",
            "Epoch 47/50\n",
            "6/6 [==============================] - 0s 11ms/step - loss: 0.0016 - val_loss: 0.0022\n",
            "Epoch 48/50\n",
            "6/6 [==============================] - 0s 11ms/step - loss: 0.0016 - val_loss: 0.0022\n",
            "Epoch 49/50\n",
            "6/6 [==============================] - 0s 10ms/step - loss: 0.0015 - val_loss: 0.0021\n",
            "Epoch 50/50\n",
            "6/6 [==============================] - 0s 11ms/step - loss: 0.0016 - val_loss: 0.0021\n"
          ]
        }
      ]
    },
    {
      "cell_type": "markdown",
      "source": [
        "## EVALUACIÓN DEL MODELO\n",
        "\n",
        "Visualizar el proceso de entrenamiento y realizar evaluaciones:"
      ],
      "metadata": {
        "id": "Xc0PMUmMBISj"
      }
    },
    {
      "cell_type": "code",
      "source": [
        "plt.figure(figsize=(10, 6))\n",
        "plt.plot(history.history['loss'], label='Entrenamiento')\n",
        "plt.plot(history.history['val_loss'], label='Validación')\n",
        "plt.title('Historial de pérdida del modelo')\n",
        "plt.xlabel('Épocas')\n",
        "plt.ylabel('Pérdida')\n",
        "plt.legend()\n",
        "plt.show()"
      ],
      "metadata": {
        "colab": {
          "base_uri": "https://localhost:8080/",
          "height": 544
        },
        "id": "Av913cC3BX-9",
        "outputId": "329b307b-7387-4365-8b69-02ad45422251"
      },
      "execution_count": null,
      "outputs": [
        {
          "output_type": "display_data",
          "data": {
            "text/plain": [
              "<Figure size 1000x600 with 1 Axes>"
            ],
            "image/png": "[encoded data removed]"
          },
          "metadata": {}
        }
      ]
    },
    {
      "cell_type": "code",
      "source": [
        "# Hacer predicciones\n",
        "\n",
        "y_pred = model.predict(X_test)"
      ],
      "metadata": {
        "colab": {
          "base_uri": "https://localhost:8080/"
        },
        "id": "lhtjpTetB-3c",
        "outputId": "dc1887b6-29b7-4c2f-cfc2-dc2a6468fdbf"
      },
      "execution_count": null,
      "outputs": [
        {
          "output_type": "stream",
          "name": "stdout",
          "text": [
            "2/2 [==============================] - 0s 6ms/step\n"
          ]
        }
      ]
    },
    {
      "cell_type": "code",
      "source": [
        "# Invertir la escala\n",
        "\n",
        "y_pred_rescaled = scaler.inverse_transform(y_pred)\n",
        "y_test_rescaled = scaler.inverse_transform(y_test)"
      ],
      "metadata": {
        "id": "dcGU95y0CKex"
      },
      "execution_count": null,
      "outputs": []
    },
    {
      "cell_type": "code",
      "source": [
        "# Calcular RMSE\n",
        "\n",
        "rmse = np.sqrt(np.mean((y_test_rescaled - y_pred_rescaled)**2))\n",
        "print('RMSE:', rmse)"
      ],
      "metadata": {
        "colab": {
          "base_uri": "https://localhost:8080/"
        },
        "id": "7f3W5QmvCoF-",
        "outputId": "fb29f9b7-1380-4d41-c280-7d22e79c29af"
      },
      "execution_count": null,
      "outputs": [
        {
          "output_type": "stream",
          "name": "stdout",
          "text": [
            "RMSE: 3577156.701171889\n"
          ]
        }
      ]
    },
    {
      "cell_type": "markdown",
      "source": [
        "## REALIZAR PREDICCIONES FUTURAS\n",
        "\n",
        "Para hacer predicciones futuras, preparamos los últimos datos y los pasaremos al modelo:"
      ],
      "metadata": {
        "id": "DWu-uRpFC7gq"
      }
    },
    {
      "cell_type": "code",
      "source": [
        "# Preparar los últimos datos\n",
        "\n",
        "last_sequence = data_scaled[-SEQUENCE_LENGHT:]\n",
        "last_sequence = np.expand_dims(last_sequence, axis=0)"
      ],
      "metadata": {
        "id": "qUQ_ZtphC4GU"
      },
      "execution_count": null,
      "outputs": []
    },
    {
      "cell_type": "code",
      "source": [
        "# Hacer predicciones futuras\n",
        "\n",
        "predicted_sales = model.predict(last_sequence)"
      ],
      "metadata": {
        "colab": {
          "base_uri": "https://localhost:8080/"
        },
        "id": "yM_TvY17DmC0",
        "outputId": "c3148d9e-cbaa-4768-fbc5-983b773cbfa9"
      },
      "execution_count": null,
      "outputs": [
        {
          "output_type": "stream",
          "name": "stdout",
          "text": [
            "1/1 [==============================] - 0s 24ms/step\n"
          ]
        }
      ]
    },
    {
      "cell_type": "code",
      "source": [
        "# Invertir la escala de la predicción\n",
        "\n",
        "predicted_sales_rescaled = scaler.inverse_transform(predicted_sales)\n",
        "print(f'La Venta pronosticada es: {predicted_sales_rescaled[0][0]}')"
      ],
      "metadata": {
        "colab": {
          "base_uri": "https://localhost:8080/"
        },
        "id": "OfARdWUKDxgC",
        "outputId": "3c4b18ee-d049-48cd-a6e4-f88231dd5660"
      },
      "execution_count": null,
      "outputs": [
        {
          "output_type": "stream",
          "name": "stdout",
          "text": [
            "La Venta pronosticada es: -1618875.0\n"
          ]
        }
      ]
    },
    {
      "cell_type": "markdown",
      "source": [
        "## AJUSTE DE HIPERPARÁMETROS\n",
        "\n",
        "Para el ajuste de hiperparametros, realizaremos un proceso manual ajustando hiperparámetros como el número de neuronas, capas, tasa de aprendizaje, etc."
      ],
      "metadata": {
        "id": "xZGlWrmYETzT"
      }
    },
    {
      "cell_type": "code",
      "source": [
        "!pip install keras-tuner"
      ],
      "metadata": {
        "colab": {
          "base_uri": "https://localhost:8080/"
        },
        "id": "9M9gtT6kF4tb",
        "outputId": "dac2c378-1d68-48eb-95e2-fed3ddfc3303"
      },
      "execution_count": null,
      "outputs": [
        {
          "output_type": "stream",
          "name": "stdout",
          "text": [
            "Requirement already satisfied: keras-tuner in /usr/local/lib/python3.10/dist-packages (1.4.5)\n",
            "Requirement already satisfied: keras-core in /usr/local/lib/python3.10/dist-packages (from keras-tuner) (0.1.7)\n",
            "Requirement already satisfied: packaging in /usr/local/lib/python3.10/dist-packages (from keras-tuner) (23.2)\n",
            "Requirement already satisfied: requests in /usr/local/lib/python3.10/dist-packages (from keras-tuner) (2.31.0)\n",
            "Requirement already satisfied: kt-legacy in /usr/local/lib/python3.10/dist-packages (from keras-tuner) (1.0.5)\n",
            "Requirement already satisfied: absl-py in /usr/local/lib/python3.10/dist-packages (from keras-core->keras-tuner) (1.4.0)\n",
            "Requirement already satisfied: numpy in /usr/local/lib/python3.10/dist-packages (from keras-core->keras-tuner) (1.23.5)\n",
            "Requirement already satisfied: rich in /usr/local/lib/python3.10/dist-packages (from keras-core->keras-tuner) (13.6.0)\n",
            "Requirement already satisfied: namex in /usr/local/lib/python3.10/dist-packages (from keras-core->keras-tuner) (0.0.7)\n",
            "Requirement already satisfied: h5py in /usr/local/lib/python3.10/dist-packages (from keras-core->keras-tuner) (3.9.0)\n",
            "Requirement already satisfied: dm-tree in /usr/local/lib/python3.10/dist-packages (from keras-core->keras-tuner) (0.1.8)\n",
            "Requirement already satisfied: charset-normalizer<4,>=2 in /usr/local/lib/python3.10/dist-packages (from requests->keras-tuner) (3.3.1)\n",
            "Requirement already satisfied: idna<4,>=2.5 in /usr/local/lib/python3.10/dist-packages (from requests->keras-tuner) (3.4)\n",
            "Requirement already satisfied: urllib3<3,>=1.21.1 in /usr/local/lib/python3.10/dist-packages (from requests->keras-tuner) (2.0.7)\n",
            "Requirement already satisfied: certifi>=2017.4.17 in /usr/local/lib/python3.10/dist-packages (from requests->keras-tuner) (2023.7.22)\n",
            "Requirement already satisfied: markdown-it-py>=2.2.0 in /usr/local/lib/python3.10/dist-packages (from rich->keras-core->keras-tuner) (3.0.0)\n",
            "Requirement already satisfied: pygments<3.0.0,>=2.13.0 in /usr/local/lib/python3.10/dist-packages (from rich->keras-core->keras-tuner) (2.16.1)\n",
            "Requirement already satisfied: mdurl~=0.1 in /usr/local/lib/python3.10/dist-packages (from markdown-it-py>=2.2.0->rich->keras-core->keras-tuner) (0.1.2)\n"
          ]
        }
      ]
    },
    {
      "cell_type": "code",
      "source": [
        "def build_model(n_units, learning_rate):\n",
        "    model = Sequential()\n",
        "    model.add(LSTM(units=n_units, return_sequences=True, input_shape=(SEQUENCE_LENGHT, 1)))\n",
        "    model.add(LSTM(units=n_units))\n",
        "    model.add(Dense(1))\n",
        "    optimizer = tf.keras.optimizers.Adam(learning_rate=learning_rate)\n",
        "    model.compile(optimizer=optimizer, loss='mean_squared_error')\n",
        "    return model"
      ],
      "metadata": {
        "id": "RavGg_EqH8XU"
      },
      "execution_count": null,
      "outputs": []
    },
    {
      "cell_type": "code",
      "source": [
        "import tensorflow as tf\n",
        "\n",
        "# Definimos un rango de posibles valores para cada hiperparámetro\n",
        "unit_options = [50, 100, 150]\n",
        "learning_rate_options = [0.01, 0.001, 0.0001]\n",
        "\n",
        "results = {}\n",
        "\n",
        "for units in unit_options:\n",
        "    for lr in learning_rate_options:\n",
        "        # Construye el modelo con los hiperparámetros actuales\n",
        "        model = build_model(n_units=units, learning_rate=lr)\n",
        "\n",
        "        # Entrena el modelo y guarda el historial\n",
        "        history = model.fit(\n",
        "            X_train, y_train,\n",
        "            epochs=50,\n",
        "            batch_size=32,\n",
        "            validation_split=0.1,\n",
        "            verbose=0\n",
        "        )\n",
        "\n",
        "        val_loss = model.evaluate(X_test, y_test, verbose=0)\n",
        "\n",
        "        results[(units, lr)] = val_loss\n",
        "        print(f\"Units: {units}, Learning Rate: {lr}, Validation Loss: {val_loss}\")"
      ],
      "metadata": {
        "colab": {
          "base_uri": "https://localhost:8080/"
        },
        "id": "DfasIqYiJmhl",
        "outputId": "a49869e9-5c36-4b26-cb89-21109ea4f7f4"
      },
      "execution_count": null,
      "outputs": [
        {
          "output_type": "stream",
          "name": "stdout",
          "text": [
            "Units: 50, Learning Rate: 0.01, Validation Loss: 0.10821660608053207\n",
            "Units: 50, Learning Rate: 0.001, Validation Loss: 0.1354135423898697\n",
            "Units: 50, Learning Rate: 0.0001, Validation Loss: 0.07591971755027771\n",
            "Units: 100, Learning Rate: 0.01, Validation Loss: 0.1433044970035553\n",
            "Units: 100, Learning Rate: 0.001, Validation Loss: 0.16258691251277924\n",
            "Units: 100, Learning Rate: 0.0001, Validation Loss: 0.07528728246688843\n",
            "Units: 150, Learning Rate: 0.01, Validation Loss: 0.10480555891990662\n",
            "Units: 150, Learning Rate: 0.001, Validation Loss: 0.14716576039791107\n",
            "Units: 150, Learning Rate: 0.0001, Validation Loss: 0.08138249069452286\n"
          ]
        }
      ]
    },
    {
      "cell_type": "markdown",
      "source": [
        "## EVALUACIÓN DEL MODELO AJUSTADO"
      ],
      "metadata": {
        "id": "7hsO2SQ3K9Pc"
      }
    },
    {
      "cell_type": "code",
      "source": [
        "# Encuentra los mejores hiperparámetros\n",
        "best_params = min(results, key=results.get)\n",
        "best_units, best_lr = best_params\n",
        "\n",
        "# Construye y entrena el modelo final usando los mejores hiperparámetros\n",
        "best_model = build_model(n_units=best_units, learning_rate=best_lr)\n",
        "best_model.fit(X_train, y_train, epochs=50, batch_size=32, verbose=1)\n",
        "\n",
        "# Evalúa el modelo en el conjunto de prueba\n",
        "final_loss = best_model.evaluate(X_test, y_test)\n",
        "print(f'El mejor modelo tiene una pérdida en el conjunto de prueba de: {final_loss}')"
      ],
      "metadata": {
        "colab": {
          "base_uri": "https://localhost:8080/"
        },
        "id": "XWXpFwFzJsAO",
        "outputId": "72dfb61a-83ed-4ed4-903f-72743e26a420"
      },
      "execution_count": null,
      "outputs": [
        {
          "output_type": "stream",
          "name": "stdout",
          "text": [
            "Epoch 1/50\n",
            "7/7 [==============================] - 3s 7ms/step - loss: 0.0090\n",
            "Epoch 2/50\n",
            "7/7 [==============================] - 0s 7ms/step - loss: 0.0071\n",
            "Epoch 3/50\n",
            "7/7 [==============================] - 0s 6ms/step - loss: 0.0055\n",
            "Epoch 4/50\n",
            "7/7 [==============================] - 0s 8ms/step - loss: 0.0041\n",
            "Epoch 5/50\n",
            "7/7 [==============================] - 0s 7ms/step - loss: 0.0031\n",
            "Epoch 6/50\n",
            "7/7 [==============================] - 0s 11ms/step - loss: 0.0023\n",
            "Epoch 7/50\n",
            "7/7 [==============================] - 0s 11ms/step - loss: 0.0019\n",
            "Epoch 8/50\n",
            "7/7 [==============================] - 0s 11ms/step - loss: 0.0017\n",
            "Epoch 9/50\n",
            "7/7 [==============================] - 0s 11ms/step - loss: 0.0018\n",
            "Epoch 10/50\n",
            "7/7 [==============================] - 0s 11ms/step - loss: 0.0018\n",
            "Epoch 11/50\n",
            "7/7 [==============================] - 0s 14ms/step - loss: 0.0018\n",
            "Epoch 12/50\n",
            "7/7 [==============================] - 0s 11ms/step - loss: 0.0017\n",
            "Epoch 13/50\n",
            "7/7 [==============================] - 0s 10ms/step - loss: 0.0017\n",
            "Epoch 14/50\n",
            "7/7 [==============================] - 0s 11ms/step - loss: 0.0017\n",
            "Epoch 15/50\n",
            "7/7 [==============================] - 0s 11ms/step - loss: 0.0017\n",
            "Epoch 16/50\n",
            "7/7 [==============================] - 0s 11ms/step - loss: 0.0017\n",
            "Epoch 17/50\n",
            "7/7 [==============================] - 0s 10ms/step - loss: 0.0017\n",
            "Epoch 18/50\n",
            "7/7 [==============================] - 0s 9ms/step - loss: 0.0017\n",
            "Epoch 19/50\n",
            "7/7 [==============================] - 0s 10ms/step - loss: 0.0017\n",
            "Epoch 20/50\n",
            "7/7 [==============================] - 0s 11ms/step - loss: 0.0017\n",
            "Epoch 21/50\n",
            "7/7 [==============================] - 0s 11ms/step - loss: 0.0017\n",
            "Epoch 22/50\n",
            "7/7 [==============================] - 0s 12ms/step - loss: 0.0017\n",
            "Epoch 23/50\n",
            "7/7 [==============================] - 0s 12ms/step - loss: 0.0017\n",
            "Epoch 24/50\n",
            "7/7 [==============================] - 0s 14ms/step - loss: 0.0017\n",
            "Epoch 25/50\n",
            "7/7 [==============================] - 0s 11ms/step - loss: 0.0017\n",
            "Epoch 26/50\n",
            "7/7 [==============================] - 0s 11ms/step - loss: 0.0017\n",
            "Epoch 27/50\n",
            "7/7 [==============================] - 0s 11ms/step - loss: 0.0017\n",
            "Epoch 28/50\n",
            "7/7 [==============================] - 0s 11ms/step - loss: 0.0017\n",
            "Epoch 29/50\n",
            "7/7 [==============================] - 0s 11ms/step - loss: 0.0017\n",
            "Epoch 30/50\n",
            "7/7 [==============================] - 0s 12ms/step - loss: 0.0017\n",
            "Epoch 31/50\n",
            "7/7 [==============================] - 0s 12ms/step - loss: 0.0017\n",
            "Epoch 32/50\n",
            "7/7 [==============================] - 0s 12ms/step - loss: 0.0017\n",
            "Epoch 33/50\n",
            "7/7 [==============================] - 0s 13ms/step - loss: 0.0017\n",
            "Epoch 34/50\n",
            "7/7 [==============================] - 0s 13ms/step - loss: 0.0017\n",
            "Epoch 35/50\n",
            "7/7 [==============================] - 0s 14ms/step - loss: 0.0017\n",
            "Epoch 36/50\n",
            "7/7 [==============================] - 0s 12ms/step - loss: 0.0017\n",
            "Epoch 37/50\n",
            "7/7 [==============================] - 0s 12ms/step - loss: 0.0017\n",
            "Epoch 38/50\n",
            "7/7 [==============================] - 0s 10ms/step - loss: 0.0017\n",
            "Epoch 39/50\n",
            "7/7 [==============================] - 0s 8ms/step - loss: 0.0017\n",
            "Epoch 40/50\n",
            "7/7 [==============================] - 0s 7ms/step - loss: 0.0017\n",
            "Epoch 41/50\n",
            "7/7 [==============================] - 0s 8ms/step - loss: 0.0017\n",
            "Epoch 42/50\n",
            "7/7 [==============================] - 0s 8ms/step - loss: 0.0017\n",
            "Epoch 43/50\n",
            "7/7 [==============================] - 0s 8ms/step - loss: 0.0017\n",
            "Epoch 44/50\n",
            "7/7 [==============================] - 0s 7ms/step - loss: 0.0017\n",
            "Epoch 45/50\n",
            "7/7 [==============================] - 0s 7ms/step - loss: 0.0017\n",
            "Epoch 46/50\n",
            "7/7 [==============================] - 0s 8ms/step - loss: 0.0017\n",
            "Epoch 47/50\n",
            "7/7 [==============================] - 0s 7ms/step - loss: 0.0017\n",
            "Epoch 48/50\n",
            "7/7 [==============================] - 0s 8ms/step - loss: 0.0017\n",
            "Epoch 49/50\n",
            "7/7 [==============================] - 0s 8ms/step - loss: 0.0017\n",
            "Epoch 50/50\n",
            "7/7 [==============================] - 0s 8ms/step - loss: 0.0017\n",
            "2/2 [==============================] - 1s 7ms/step - loss: 0.0801\n",
            "El mejor modelo tiene una pérdida en el conjunto de prueba de: 0.08009392023086548\n"
          ]
        }
      ]
    },
    {
      "cell_type": "code",
      "source": [
        "# Toma la última secuencia de datos\n",
        "last_sequence = data_scaled[-SEQUENCE_LENGHT:]\n",
        "\n",
        "# Expande las dimensiones para que coincida con la entrada esperada por el modelo\n",
        "last_sequence = np.expand_dims(last_sequence, axis=0)\n"
      ],
      "metadata": {
        "id": "omgf8lrem-PK"
      },
      "execution_count": null,
      "outputs": []
    },
    {
      "cell_type": "markdown",
      "source": [
        "## REALIZAR PREDICCIONES FUTURAS CON EL MODELO AJUSTADO\n"
      ],
      "metadata": {
        "id": "oGIigs30yZ_h"
      }
    },
    {
      "cell_type": "code",
      "source": [
        "# Hacer la predicción utilizando el mejor modelo\n",
        "predicted_sales_scaled = best_model.predict(last_sequence)\n",
        "\n",
        "# Deshacer el escalado de la predicción para obtener el valor en la escala original\n",
        "predicted_sales = scaler.inverse_transform(predicted_sales_scaled)"
      ],
      "metadata": {
        "colab": {
          "base_uri": "https://localhost:8080/"
        },
        "id": "TvscfM3PnABZ",
        "outputId": "0cd188cb-af3b-4cd9-9c4e-4ebf12add995"
      },
      "execution_count": null,
      "outputs": [
        {
          "output_type": "stream",
          "name": "stdout",
          "text": [
            "1/1 [==============================] - 0s 15ms/step\n"
          ]
        }
      ]
    },
    {
      "cell_type": "code",
      "source": [
        "# Muestra la predicción de ventas futuras\n",
        "next_time_step = data.index[-1] + pd.Timedelta(days=1)  # Ajustar según la frecuencia de tus datos\n",
        "print(f'La venta pronosticada para {next_time_step.date()} es {predicted_sales[0][0]}')\n"
      ],
      "metadata": {
        "colab": {
          "base_uri": "https://localhost:8080/"
        },
        "id": "ikIbeQFenV7S",
        "outputId": "452fe827-506d-4dac-e014-193cf42e27ea"
      },
      "execution_count": null,
      "outputs": [
        {
          "output_type": "stream",
          "name": "stdout",
          "text": [
            "La venta pronosticada para 2023-10-14 es 1361846.25\n"
          ]
        }
      ]
    },
    {
      "cell_type": "code",
      "source": [
        "future_steps = 5\n",
        "future_sales = []\n",
        "current_sequence = last_sequence\n",
        "\n",
        "for _ in range(future_steps):\n",
        "    # Usando el modelo para hacer la predicción\n",
        "    current_prediction_scaled = best_model.predict(current_sequence)\n",
        "    # Deshaciendo el escalado\n",
        "    current_prediction = scaler.inverse_transform(current_prediction_scaled)\n",
        "    # Guardar la predicción\n",
        "    future_sales.append(current_prediction[0][0])\n",
        "    # Actualizar la secuencia de entrada para incluir la nueva predicción\n",
        "    current_sequence = np.roll(current_sequence, -1, axis=1)\n",
        "    current_sequence[:, -1, :] = current_prediction_scaled\n",
        "\n",
        "# Ventas futuras pronosticadas\n",
        "for i, sale in enumerate(future_sales, start=1):\n",
        "    next_step = data.index[-1] + pd.Timedelta(days=i)  # Ajusta según la frecuencia de tus datos\n",
        "    print(f'La venta pronosticada para {next_step.date()} es {sale}')"
      ],
      "metadata": {
        "colab": {
          "base_uri": "https://localhost:8080/"
        },
        "id": "P2f4979Jn3TS",
        "outputId": "1125e716-8a1a-472d-f866-e4be43a405ba"
      },
      "execution_count": null,
      "outputs": [
        {
          "output_type": "stream",
          "name": "stdout",
          "text": [
            "1/1 [==============================] - 0s 14ms/step\n",
            "1/1 [==============================] - 0s 15ms/step\n",
            "1/1 [==============================] - 0s 17ms/step\n",
            "1/1 [==============================] - 0s 18ms/step\n",
            "1/1 [==============================] - 0s 15ms/step\n",
            "La venta pronosticada para 2023-10-14 es 1361846.25\n",
            "La venta pronosticada para 2023-10-15 es 1341827.75\n",
            "La venta pronosticada para 2023-10-16 es 1268675.625\n",
            "La venta pronosticada para 2023-10-17 es 1165985.0\n",
            "La venta pronosticada para 2023-10-18 es 965343.5625\n"
          ]
        }
      ]
    }
  ]
}